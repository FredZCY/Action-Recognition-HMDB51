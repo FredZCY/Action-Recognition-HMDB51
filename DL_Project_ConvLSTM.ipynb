{
  "nbformat": 4,
  "nbformat_minor": 0,
  "metadata": {
    "colab": {
      "name": "DL Project ConvLSTM",
      "provenance": [],
      "collapsed_sections": []
    },
    "kernelspec": {
      "name": "python3",
      "display_name": "Python 3"
    },
    "language_info": {
      "name": "python"
    },
    "accelerator": "GPU",
    "widgets": {
      "application/vnd.jupyter.widget-state+json": {
        "cb9ba301be6943cd921a1771e7246e8d": {
          "model_module": "@jupyter-widgets/controls",
          "model_name": "HBoxModel",
          "model_module_version": "1.5.0",
          "state": {
            "_dom_classes": [],
            "_model_module": "@jupyter-widgets/controls",
            "_model_module_version": "1.5.0",
            "_model_name": "HBoxModel",
            "_view_count": null,
            "_view_module": "@jupyter-widgets/controls",
            "_view_module_version": "1.5.0",
            "_view_name": "HBoxView",
            "box_style": "",
            "children": [
              "IPY_MODEL_145cf71aedd94e8cb52bc249a33ccd81",
              "IPY_MODEL_42cffa1b42a44f7ba08fa4d1cddcd39c",
              "IPY_MODEL_10429c93272347dca5c57bcfb0f76f29"
            ],
            "layout": "IPY_MODEL_fdeb3e82812e46e5a67bb77b45106664"
          }
        },
        "145cf71aedd94e8cb52bc249a33ccd81": {
          "model_module": "@jupyter-widgets/controls",
          "model_name": "HTMLModel",
          "model_module_version": "1.5.0",
          "state": {
            "_dom_classes": [],
            "_model_module": "@jupyter-widgets/controls",
            "_model_module_version": "1.5.0",
            "_model_name": "HTMLModel",
            "_view_count": null,
            "_view_module": "@jupyter-widgets/controls",
            "_view_module_version": "1.5.0",
            "_view_name": "HTMLView",
            "description": "",
            "description_tooltip": null,
            "layout": "IPY_MODEL_64bcb9c4e9f94dd985952385409d9916",
            "placeholder": "​",
            "style": "IPY_MODEL_2c8c152acd074cbe9972a30840da8654",
            "value": "100%"
          }
        },
        "42cffa1b42a44f7ba08fa4d1cddcd39c": {
          "model_module": "@jupyter-widgets/controls",
          "model_name": "FloatProgressModel",
          "model_module_version": "1.5.0",
          "state": {
            "_dom_classes": [],
            "_model_module": "@jupyter-widgets/controls",
            "_model_module_version": "1.5.0",
            "_model_name": "FloatProgressModel",
            "_view_count": null,
            "_view_module": "@jupyter-widgets/controls",
            "_view_module_version": "1.5.0",
            "_view_name": "ProgressView",
            "bar_style": "success",
            "description": "",
            "description_tooltip": null,
            "layout": "IPY_MODEL_de5a682784ae436facdd026f14ea5fb2",
            "max": 553433881,
            "min": 0,
            "orientation": "horizontal",
            "style": "IPY_MODEL_9a67c52238134aa5b797de503a7219b9",
            "value": 553433881
          }
        },
        "10429c93272347dca5c57bcfb0f76f29": {
          "model_module": "@jupyter-widgets/controls",
          "model_name": "HTMLModel",
          "model_module_version": "1.5.0",
          "state": {
            "_dom_classes": [],
            "_model_module": "@jupyter-widgets/controls",
            "_model_module_version": "1.5.0",
            "_model_name": "HTMLModel",
            "_view_count": null,
            "_view_module": "@jupyter-widgets/controls",
            "_view_module_version": "1.5.0",
            "_view_name": "HTMLView",
            "description": "",
            "description_tooltip": null,
            "layout": "IPY_MODEL_2425e721be154eb9abe48e8e1984ff97",
            "placeholder": "​",
            "style": "IPY_MODEL_1f3c0c05d07e4c22973774341fc4da9f",
            "value": " 528M/528M [00:04&lt;00:00, 134MB/s]"
          }
        },
        "fdeb3e82812e46e5a67bb77b45106664": {
          "model_module": "@jupyter-widgets/base",
          "model_name": "LayoutModel",
          "model_module_version": "1.2.0",
          "state": {
            "_model_module": "@jupyter-widgets/base",
            "_model_module_version": "1.2.0",
            "_model_name": "LayoutModel",
            "_view_count": null,
            "_view_module": "@jupyter-widgets/base",
            "_view_module_version": "1.2.0",
            "_view_name": "LayoutView",
            "align_content": null,
            "align_items": null,
            "align_self": null,
            "border": null,
            "bottom": null,
            "display": null,
            "flex": null,
            "flex_flow": null,
            "grid_area": null,
            "grid_auto_columns": null,
            "grid_auto_flow": null,
            "grid_auto_rows": null,
            "grid_column": null,
            "grid_gap": null,
            "grid_row": null,
            "grid_template_areas": null,
            "grid_template_columns": null,
            "grid_template_rows": null,
            "height": null,
            "justify_content": null,
            "justify_items": null,
            "left": null,
            "margin": null,
            "max_height": null,
            "max_width": null,
            "min_height": null,
            "min_width": null,
            "object_fit": null,
            "object_position": null,
            "order": null,
            "overflow": null,
            "overflow_x": null,
            "overflow_y": null,
            "padding": null,
            "right": null,
            "top": null,
            "visibility": null,
            "width": null
          }
        },
        "64bcb9c4e9f94dd985952385409d9916": {
          "model_module": "@jupyter-widgets/base",
          "model_name": "LayoutModel",
          "model_module_version": "1.2.0",
          "state": {
            "_model_module": "@jupyter-widgets/base",
            "_model_module_version": "1.2.0",
            "_model_name": "LayoutModel",
            "_view_count": null,
            "_view_module": "@jupyter-widgets/base",
            "_view_module_version": "1.2.0",
            "_view_name": "LayoutView",
            "align_content": null,
            "align_items": null,
            "align_self": null,
            "border": null,
            "bottom": null,
            "display": null,
            "flex": null,
            "flex_flow": null,
            "grid_area": null,
            "grid_auto_columns": null,
            "grid_auto_flow": null,
            "grid_auto_rows": null,
            "grid_column": null,
            "grid_gap": null,
            "grid_row": null,
            "grid_template_areas": null,
            "grid_template_columns": null,
            "grid_template_rows": null,
            "height": null,
            "justify_content": null,
            "justify_items": null,
            "left": null,
            "margin": null,
            "max_height": null,
            "max_width": null,
            "min_height": null,
            "min_width": null,
            "object_fit": null,
            "object_position": null,
            "order": null,
            "overflow": null,
            "overflow_x": null,
            "overflow_y": null,
            "padding": null,
            "right": null,
            "top": null,
            "visibility": null,
            "width": null
          }
        },
        "2c8c152acd074cbe9972a30840da8654": {
          "model_module": "@jupyter-widgets/controls",
          "model_name": "DescriptionStyleModel",
          "model_module_version": "1.5.0",
          "state": {
            "_model_module": "@jupyter-widgets/controls",
            "_model_module_version": "1.5.0",
            "_model_name": "DescriptionStyleModel",
            "_view_count": null,
            "_view_module": "@jupyter-widgets/base",
            "_view_module_version": "1.2.0",
            "_view_name": "StyleView",
            "description_width": ""
          }
        },
        "de5a682784ae436facdd026f14ea5fb2": {
          "model_module": "@jupyter-widgets/base",
          "model_name": "LayoutModel",
          "model_module_version": "1.2.0",
          "state": {
            "_model_module": "@jupyter-widgets/base",
            "_model_module_version": "1.2.0",
            "_model_name": "LayoutModel",
            "_view_count": null,
            "_view_module": "@jupyter-widgets/base",
            "_view_module_version": "1.2.0",
            "_view_name": "LayoutView",
            "align_content": null,
            "align_items": null,
            "align_self": null,
            "border": null,
            "bottom": null,
            "display": null,
            "flex": null,
            "flex_flow": null,
            "grid_area": null,
            "grid_auto_columns": null,
            "grid_auto_flow": null,
            "grid_auto_rows": null,
            "grid_column": null,
            "grid_gap": null,
            "grid_row": null,
            "grid_template_areas": null,
            "grid_template_columns": null,
            "grid_template_rows": null,
            "height": null,
            "justify_content": null,
            "justify_items": null,
            "left": null,
            "margin": null,
            "max_height": null,
            "max_width": null,
            "min_height": null,
            "min_width": null,
            "object_fit": null,
            "object_position": null,
            "order": null,
            "overflow": null,
            "overflow_x": null,
            "overflow_y": null,
            "padding": null,
            "right": null,
            "top": null,
            "visibility": null,
            "width": null
          }
        },
        "9a67c52238134aa5b797de503a7219b9": {
          "model_module": "@jupyter-widgets/controls",
          "model_name": "ProgressStyleModel",
          "model_module_version": "1.5.0",
          "state": {
            "_model_module": "@jupyter-widgets/controls",
            "_model_module_version": "1.5.0",
            "_model_name": "ProgressStyleModel",
            "_view_count": null,
            "_view_module": "@jupyter-widgets/base",
            "_view_module_version": "1.2.0",
            "_view_name": "StyleView",
            "bar_color": null,
            "description_width": ""
          }
        },
        "2425e721be154eb9abe48e8e1984ff97": {
          "model_module": "@jupyter-widgets/base",
          "model_name": "LayoutModel",
          "model_module_version": "1.2.0",
          "state": {
            "_model_module": "@jupyter-widgets/base",
            "_model_module_version": "1.2.0",
            "_model_name": "LayoutModel",
            "_view_count": null,
            "_view_module": "@jupyter-widgets/base",
            "_view_module_version": "1.2.0",
            "_view_name": "LayoutView",
            "align_content": null,
            "align_items": null,
            "align_self": null,
            "border": null,
            "bottom": null,
            "display": null,
            "flex": null,
            "flex_flow": null,
            "grid_area": null,
            "grid_auto_columns": null,
            "grid_auto_flow": null,
            "grid_auto_rows": null,
            "grid_column": null,
            "grid_gap": null,
            "grid_row": null,
            "grid_template_areas": null,
            "grid_template_columns": null,
            "grid_template_rows": null,
            "height": null,
            "justify_content": null,
            "justify_items": null,
            "left": null,
            "margin": null,
            "max_height": null,
            "max_width": null,
            "min_height": null,
            "min_width": null,
            "object_fit": null,
            "object_position": null,
            "order": null,
            "overflow": null,
            "overflow_x": null,
            "overflow_y": null,
            "padding": null,
            "right": null,
            "top": null,
            "visibility": null,
            "width": null
          }
        },
        "1f3c0c05d07e4c22973774341fc4da9f": {
          "model_module": "@jupyter-widgets/controls",
          "model_name": "DescriptionStyleModel",
          "model_module_version": "1.5.0",
          "state": {
            "_model_module": "@jupyter-widgets/controls",
            "_model_module_version": "1.5.0",
            "_model_name": "DescriptionStyleModel",
            "_view_count": null,
            "_view_module": "@jupyter-widgets/base",
            "_view_module_version": "1.2.0",
            "_view_name": "StyleView",
            "description_width": ""
          }
        }
      }
    }
  },
  "cells": [
    {
      "cell_type": "code",
      "source": [
        "!pip install cloudstorage"
      ],
      "metadata": {
        "colab": {
          "base_uri": "https://localhost:8080/"
        },
        "id": "6qJKXiPgHetS",
        "outputId": "60f0a077-b97c-4e82-ce6e-956883385c7a"
      },
      "execution_count": 2,
      "outputs": [
        {
          "output_type": "stream",
          "name": "stdout",
          "text": [
            "Collecting cloudstorage\n",
            "  Downloading cloudstorage-0.11.0-py3-none-any.whl (54 kB)\n",
            "\u001b[?25l\r\u001b[K     |██████                          | 10 kB 33.2 MB/s eta 0:00:01\r\u001b[K     |████████████                    | 20 kB 18.4 MB/s eta 0:00:01\r\u001b[K     |██████████████████▏             | 30 kB 10.4 MB/s eta 0:00:01\r\u001b[K     |████████████████████████▏       | 40 kB 8.6 MB/s eta 0:00:01\r\u001b[K     |██████████████████████████████▏ | 51 kB 4.8 MB/s eta 0:00:01\r\u001b[K     |████████████████████████████████| 54 kB 2.0 MB/s \n",
            "\u001b[?25hRequirement already satisfied: python-dateutil>=2.7.3 in /usr/local/lib/python3.7/dist-packages (from cloudstorage) (2.8.2)\n",
            "Collecting inflection>=0.3.1\n",
            "  Downloading inflection-0.5.1-py2.py3-none-any.whl (9.5 kB)\n",
            "Collecting python-magic>=0.4.15\n",
            "  Downloading python_magic-0.4.25-py2.py3-none-any.whl (13 kB)\n",
            "Requirement already satisfied: six>=1.5 in /usr/local/lib/python3.7/dist-packages (from python-dateutil>=2.7.3->cloudstorage) (1.15.0)\n",
            "Installing collected packages: python-magic, inflection, cloudstorage\n",
            "Successfully installed cloudstorage-0.11.0 inflection-0.5.1 python-magic-0.4.25\n"
          ]
        }
      ]
    },
    {
      "cell_type": "code",
      "source": [
        "!pip install google-cloud-storage==2.3.0"
      ],
      "metadata": {
        "colab": {
          "base_uri": "https://localhost:8080/",
          "height": 982
        },
        "id": "UOXQ7lvpH0p2",
        "outputId": "0f3dca23-9f07-4c37-c1e2-bfd2379b017b"
      },
      "execution_count": 2,
      "outputs": [
        {
          "output_type": "stream",
          "name": "stdout",
          "text": [
            "Collecting google-cloud-storage==2.3.0\n",
            "  Downloading google_cloud_storage-2.3.0-py2.py3-none-any.whl (107 kB)\n",
            "\u001b[?25l\r\u001b[K     |███                             | 10 kB 21.1 MB/s eta 0:00:01\r\u001b[K     |██████▏                         | 20 kB 12.3 MB/s eta 0:00:01\r\u001b[K     |█████████▏                      | 30 kB 6.7 MB/s eta 0:00:01\r\u001b[K     |████████████▎                   | 40 kB 8.3 MB/s eta 0:00:01\r\u001b[K     |███████████████▎                | 51 kB 5.1 MB/s eta 0:00:01\r\u001b[K     |██████████████████▍             | 61 kB 5.2 MB/s eta 0:00:01\r\u001b[K     |█████████████████████▍          | 71 kB 5.3 MB/s eta 0:00:01\r\u001b[K     |████████████████████████▌       | 81 kB 6.0 MB/s eta 0:00:01\r\u001b[K     |███████████████████████████▌    | 92 kB 4.8 MB/s eta 0:00:01\r\u001b[K     |██████████████████████████████▋ | 102 kB 5.3 MB/s eta 0:00:01\r\u001b[K     |████████████████████████████████| 107 kB 5.3 MB/s \n",
            "\u001b[?25hRequirement already satisfied: requests<3.0.0dev,>=2.18.0 in /usr/local/lib/python3.7/dist-packages (from google-cloud-storage==2.3.0) (2.23.0)\n",
            "Collecting google-cloud-core<3.0dev,>=2.3.0\n",
            "  Downloading google_cloud_core-2.3.0-py2.py3-none-any.whl (29 kB)\n",
            "Requirement already satisfied: google-api-core!=2.0.*,!=2.1.*,!=2.2.*,!=2.3.0,<3.0.0dev,>=1.31.5 in /usr/local/lib/python3.7/dist-packages (from google-cloud-storage==2.3.0) (1.31.5)\n",
            "Requirement already satisfied: protobuf in /usr/local/lib/python3.7/dist-packages (from google-cloud-storage==2.3.0) (3.17.3)\n",
            "Collecting google-resumable-media>=2.3.2\n",
            "  Downloading google_resumable_media-2.3.2-py2.py3-none-any.whl (76 kB)\n",
            "\u001b[K     |████████████████████████████████| 76 kB 5.8 MB/s \n",
            "\u001b[?25hRequirement already satisfied: google-auth<3.0dev,>=1.25.0 in /usr/local/lib/python3.7/dist-packages (from google-cloud-storage==2.3.0) (1.35.0)\n",
            "Requirement already satisfied: pytz in /usr/local/lib/python3.7/dist-packages (from google-api-core!=2.0.*,!=2.1.*,!=2.2.*,!=2.3.0,<3.0.0dev,>=1.31.5->google-cloud-storage==2.3.0) (2022.1)\n",
            "Requirement already satisfied: six>=1.13.0 in /usr/local/lib/python3.7/dist-packages (from google-api-core!=2.0.*,!=2.1.*,!=2.2.*,!=2.3.0,<3.0.0dev,>=1.31.5->google-cloud-storage==2.3.0) (1.15.0)\n",
            "Requirement already satisfied: packaging>=14.3 in /usr/local/lib/python3.7/dist-packages (from google-api-core!=2.0.*,!=2.1.*,!=2.2.*,!=2.3.0,<3.0.0dev,>=1.31.5->google-cloud-storage==2.3.0) (21.3)\n",
            "Requirement already satisfied: setuptools>=40.3.0 in /usr/local/lib/python3.7/dist-packages (from google-api-core!=2.0.*,!=2.1.*,!=2.2.*,!=2.3.0,<3.0.0dev,>=1.31.5->google-cloud-storage==2.3.0) (57.4.0)\n",
            "Requirement already satisfied: googleapis-common-protos<2.0dev,>=1.6.0 in /usr/local/lib/python3.7/dist-packages (from google-api-core!=2.0.*,!=2.1.*,!=2.2.*,!=2.3.0,<3.0.0dev,>=1.31.5->google-cloud-storage==2.3.0) (1.56.0)\n",
            "Requirement already satisfied: cachetools<5.0,>=2.0.0 in /usr/local/lib/python3.7/dist-packages (from google-auth<3.0dev,>=1.25.0->google-cloud-storage==2.3.0) (4.2.4)\n",
            "Requirement already satisfied: pyasn1-modules>=0.2.1 in /usr/local/lib/python3.7/dist-packages (from google-auth<3.0dev,>=1.25.0->google-cloud-storage==2.3.0) (0.2.8)\n",
            "Requirement already satisfied: rsa<5,>=3.1.4 in /usr/local/lib/python3.7/dist-packages (from google-auth<3.0dev,>=1.25.0->google-cloud-storage==2.3.0) (4.8)\n",
            "Collecting google-crc32c<2.0dev,>=1.0\n",
            "  Downloading google_crc32c-1.3.0-cp37-cp37m-manylinux_2_12_x86_64.manylinux2010_x86_64.whl (38 kB)\n",
            "Requirement already satisfied: pyparsing!=3.0.5,>=2.0.2 in /usr/local/lib/python3.7/dist-packages (from packaging>=14.3->google-api-core!=2.0.*,!=2.1.*,!=2.2.*,!=2.3.0,<3.0.0dev,>=1.31.5->google-cloud-storage==2.3.0) (3.0.8)\n",
            "Requirement already satisfied: pyasn1<0.5.0,>=0.4.6 in /usr/local/lib/python3.7/dist-packages (from pyasn1-modules>=0.2.1->google-auth<3.0dev,>=1.25.0->google-cloud-storage==2.3.0) (0.4.8)\n",
            "Requirement already satisfied: chardet<4,>=3.0.2 in /usr/local/lib/python3.7/dist-packages (from requests<3.0.0dev,>=2.18.0->google-cloud-storage==2.3.0) (3.0.4)\n",
            "Requirement already satisfied: urllib3!=1.25.0,!=1.25.1,<1.26,>=1.21.1 in /usr/local/lib/python3.7/dist-packages (from requests<3.0.0dev,>=2.18.0->google-cloud-storage==2.3.0) (1.24.3)\n",
            "Requirement already satisfied: idna<3,>=2.5 in /usr/local/lib/python3.7/dist-packages (from requests<3.0.0dev,>=2.18.0->google-cloud-storage==2.3.0) (2.10)\n",
            "Requirement already satisfied: certifi>=2017.4.17 in /usr/local/lib/python3.7/dist-packages (from requests<3.0.0dev,>=2.18.0->google-cloud-storage==2.3.0) (2021.10.8)\n",
            "Installing collected packages: google-crc32c, google-resumable-media, google-cloud-core, google-cloud-storage\n",
            "  Attempting uninstall: google-resumable-media\n",
            "    Found existing installation: google-resumable-media 0.4.1\n",
            "    Uninstalling google-resumable-media-0.4.1:\n",
            "      Successfully uninstalled google-resumable-media-0.4.1\n",
            "  Attempting uninstall: google-cloud-core\n",
            "    Found existing installation: google-cloud-core 1.0.3\n",
            "    Uninstalling google-cloud-core-1.0.3:\n",
            "      Successfully uninstalled google-cloud-core-1.0.3\n",
            "  Attempting uninstall: google-cloud-storage\n",
            "    Found existing installation: google-cloud-storage 1.18.1\n",
            "    Uninstalling google-cloud-storage-1.18.1:\n",
            "      Successfully uninstalled google-cloud-storage-1.18.1\n",
            "\u001b[31mERROR: pip's dependency resolver does not currently take into account all the packages that are installed. This behaviour is the source of the following dependency conflicts.\n",
            "google-cloud-translate 1.5.0 requires google-cloud-core<2.0dev,>=1.0.0, but you have google-cloud-core 2.3.0 which is incompatible.\n",
            "google-cloud-firestore 1.7.0 requires google-cloud-core<2.0dev,>=1.0.3, but you have google-cloud-core 2.3.0 which is incompatible.\n",
            "google-cloud-datastore 1.8.0 requires google-cloud-core<2.0dev,>=1.0.0, but you have google-cloud-core 2.3.0 which is incompatible.\n",
            "google-cloud-bigquery 1.21.0 requires google-cloud-core<2.0dev,>=1.0.3, but you have google-cloud-core 2.3.0 which is incompatible.\n",
            "google-cloud-bigquery 1.21.0 requires google-resumable-media!=0.4.0,<0.5.0dev,>=0.3.1, but you have google-resumable-media 2.3.2 which is incompatible.\u001b[0m\n",
            "Successfully installed google-cloud-core-2.3.0 google-cloud-storage-2.3.0 google-crc32c-1.3.0 google-resumable-media-2.3.2\n"
          ]
        },
        {
          "output_type": "display_data",
          "data": {
            "application/vnd.colab-display-data+json": {
              "pip_warning": {
                "packages": [
                  "google"
                ]
              }
            }
          },
          "metadata": {}
        }
      ]
    },
    {
      "cell_type": "code",
      "source": [
        "#Version: 2.3.0\n",
        "!pip3 show google-cloud-storage"
      ],
      "metadata": {
        "id": "ZYHk6Ztkmyb3",
        "colab": {
          "base_uri": "https://localhost:8080/"
        },
        "outputId": "3543c452-a61f-4a89-953e-4b77126a6eeb"
      },
      "execution_count": 23,
      "outputs": [
        {
          "output_type": "stream",
          "name": "stdout",
          "text": [
            "Name: google-cloud-storage\n",
            "Version: 1.18.1\n",
            "Summary: Google Cloud Storage API client library\n",
            "Home-page: https://github.com/GoogleCloudPlatform/google-cloud-python\n",
            "Author: Google LLC\n",
            "Author-email: googleapis-packages@google.com\n",
            "License: Apache 2.0\n",
            "Location: /usr/local/lib/python3.7/dist-packages\n",
            "Requires: google-cloud-core, google-resumable-media, google-auth\n",
            "Required-by: firebase-admin, earthengine-api\n"
          ]
        }
      ]
    },
    {
      "cell_type": "code",
      "execution_count": 24,
      "metadata": {
        "id": "df488xNCGduo"
      },
      "outputs": [],
      "source": [
        "import os\n",
        "import cloudstorage as gcs\n",
        "from google.cloud import storage\n"
      ]
    },
    {
      "cell_type": "code",
      "source": [
        "import os\n",
        "import json\n",
        "import time\n",
        "import io\n",
        "\n",
        "## External Libraries\n",
        "import numpy as np\n",
        "import torch\n",
        "import torch.nn as nn\n",
        "from torchvision import transforms\n",
        "from torch.autograd import Variable\n",
        "import torch.nn.functional as functional\n",
        "from torch.utils.data import Dataset, DataLoader\n",
        "from skimage import io as skimgio\n",
        "import matplotlib.pyplot as plt\n",
        "import PIL.Image as Image"
      ],
      "metadata": {
        "id": "mLkUUxNbIkBo"
      },
      "execution_count": 25,
      "outputs": []
    },
    {
      "cell_type": "code",
      "source": [
        "from google.colab import drive\n",
        "drive.mount('/content/drive') #CHANGE THIS IF USE ON OWN\n",
        "%cd /content/drive/MyDrive/Dan_Action_Recognition \n",
        "!ls"
      ],
      "metadata": {
        "id": "I6g7tDnlfXGA",
        "colab": {
          "base_uri": "https://localhost:8080/"
        },
        "outputId": "e0a850f5-d461-4686-81a7-4db32f8f54db"
      },
      "execution_count": 26,
      "outputs": [
        {
          "output_type": "stream",
          "name": "stdout",
          "text": [
            "Drive already mounted at /content/drive; to attempt to forcibly remount, call drive.mount(\"/content/drive\", force_remount=True).\n",
            "/content/drive/MyDrive/Dan_Action_Recognition\n",
            "deep-learning-action-rec-d5fce017335a.json  model_structure_plot.png\n",
            "models\t\t\t\t\t    training_data\n"
          ]
        }
      ]
    },
    {
      "cell_type": "markdown",
      "source": [
        "### Connecting to Google Cloud Storage"
      ],
      "metadata": {
        "id": "YsW7yg1H8VKb"
      }
    },
    {
      "cell_type": "code",
      "source": [
        "os.environ['GOOGLE_APPLICATION_CREDENTIALS'] = \"deep-learning-action-rec-d5fce017335a.json\""
      ],
      "metadata": {
        "id": "dj8FLlnxLk9s"
      },
      "execution_count": 27,
      "outputs": []
    },
    {
      "cell_type": "code",
      "source": [
        "BUCKET_NAME = \"jhu_deep_learning_action_recognition_final_proj\""
      ],
      "metadata": {
        "id": "-hJ1Mj5xzjsb"
      },
      "execution_count": 28,
      "outputs": []
    },
    {
      "cell_type": "code",
      "source": [
        "def test_read_file_blob(bucket_name, destination_blob_name):\n",
        "    \"\"\"Read a file from the bucket.\"\"\"\n",
        " \n",
        "    storage_client = storage.Client()\n",
        "    bucket = storage_client.bucket(bucket_name)\n",
        "    #blob = bucket.blob(destination_blob_name)\n",
        " \n",
        "    # read as string\n",
        "    blob = storage_client.bucket(bucket_name).get_blob(destination_blob_name).download_as_string() #.28 seconds\n",
        "    #blob = storage_client.bucket(bucket_name).get_blob(destination_blob_name).download_as_bytes() #0.3 seconds\n",
        "    #print(blob)\n",
        "    bytes_blob = io.BytesIO(blob)\n",
        "    im = Image.open(bytes_blob)\n",
        "    plt.imshow(im)\n",
        "\n",
        "    transform = transforms.Compose([\n",
        "      transforms.PILToTensor(),\n",
        "      #transforms.Grayscale(num_output_channels=1), OPTIONAL PARAM\n",
        "      transforms.Resize((64)),\n",
        "      transforms.CenterCrop(64),\n",
        "      transforms.Lambda(lambda x: x.float()),\n",
        "      transforms.Normalize((0.5,), (0.5,)),\n",
        "      transforms.Lambda(lambda x: x.long())\n",
        "    ])\n",
        "    print(transform(im).shape)\n",
        "    print(transform(im)[0])\n",
        "    plt.imshow(transform(im)[0])\n",
        "\n",
        "    #gcs_file = gcs.open(file)\n",
        "    #contents = gcs_file.read()\n",
        "    #gcs_file.close()\n",
        "    #print(blob.download_to_filename(blob.name))\n",
        "\n",
        "    #frame = Image.open(blob.download_as_string())\n",
        "    #print(frame)\n",
        "    print(\n",
        "        \"File {} read successfully  from Bucket  {}.\".format(\n",
        "            destination_blob_name, bucket_name\n",
        "        )\n",
        "    )"
      ],
      "metadata": {
        "id": "199JXKhdHbfT"
      },
      "execution_count": 29,
      "outputs": []
    },
    {
      "cell_type": "code",
      "source": [
        "import time\n",
        "start = time.time()\n",
        "test_read_file_blob(BUCKET_NAME,\"test/chew/Big_League_Chew_chew_h_nm_np1_fr_goo_2/image_00001.jpg\")\n",
        "print(\"%2f\" % (time.time() - start))"
      ],
      "metadata": {
        "id": "UBHOgIoRIJCh",
        "colab": {
          "base_uri": "https://localhost:8080/",
          "height": 466
        },
        "outputId": "d6bd6fc9-7456-4a1e-c04f-91e995a2676d"
      },
      "execution_count": 30,
      "outputs": [
        {
          "output_type": "stream",
          "name": "stdout",
          "text": [
            "torch.Size([3, 64, 64])\n",
            "tensor([[425, 427, 437,  ..., 341, 337, 307],\n",
            "        [421, 413, 453,  ..., 341, 349, 333],\n",
            "        [439, 431, 441,  ..., 349, 349, 327],\n",
            "        ...,\n",
            "        [ 33,  37,  37,  ...,  43,  37,  41],\n",
            "        [ 33,  31,  33,  ...,  57,  65,  79],\n",
            "        [ 33,  29,  31,  ..., 289, 301, 293]])\n",
            "File test/chew/Big_League_Chew_chew_h_nm_np1_fr_goo_2/image_00001.jpg read successfully  from Bucket  jhu_deep_learning_action_recognition_final_proj.\n",
            "0.602766\n"
          ]
        },
        {
          "output_type": "display_data",
          "data": {
            "text/plain": [
              "<Figure size 432x288 with 1 Axes>"
            ],
            "image/png": "[encoded data removed]"
          },
          "metadata": {
            "needs_background": "light"
          }
        }
      ]
    },
    {
      "cell_type": "markdown",
      "source": [
        "### Loading Data"
      ],
      "metadata": {
        "id": "_rPkSbKsLee_"
      }
    },
    {
      "cell_type": "code",
      "source": [
        " #Define list of just 10 classes from list of 51. CUSTOM HYPERPARAM\n",
        "#CLASSES_LIST = [ 'eat', 'walk', 'punch', 'sit', 'smile', 'climb', 'jump', 'kick','kiss', 'drink']\n",
        "CLASSES_LIST_TEST = ['eat', 'walk', 'punch']\n",
        "\n",
        "\n",
        "#USE THIS CLASS, more uniformly distributed\n",
        "CLASSES_LIST = ['wave', 'brush-hair', 'catch', 'climb', 'eat', 'pick', 'pour', 'smile', 'sit-up' , 'kiss']\n",
        "\n",
        "#classes_list_15 = [Wave, brush-hair, catch, climb, eat, pick, pour, smile, sit-up , kiss,     golf, sword, hit, shoot_ball, stand]\n",
        "\n",
        "\n",
        "classes_dict = {class_name : idx for idx, class_name in enumerate(CLASSES_LIST)}"
      ],
      "metadata": {
        "id": "zrNYVQD8yNAG"
      },
      "execution_count": 31,
      "outputs": []
    },
    {
      "cell_type": "code",
      "source": [
        "#Build index for dataloader \n",
        "#Needs to loop through entire dataset to build an index of all videos\n",
        "#Takes 1-2 min to run with 10 different classes\n",
        "\n",
        "def build_file_index(prefix_folder, classes_dict):\n",
        "  video_list = set()\n",
        "  storage_client = storage.Client()\n",
        "  bucket = storage_client.bucket(BUCKET_NAME)\n",
        "\n",
        "  for blob in bucket.list_blobs(prefix=prefix_folder + '/'):\n",
        "    blob_path = blob.name\n",
        "    blob_components = blob_path.split('/')\n",
        "    # video_name = blob_components[-2:-1][0],\n",
        "    class_name, video_path = blob_components[1],  '/'.join(blob_components[:-1])\n",
        "    if video_path in video_list:\n",
        "      continue\n",
        "\n",
        "    if class_name in classes_dict:\n",
        "      video_list.add(video_path)\n",
        "  return list(video_list)\n",
        "\n",
        "test_video_index = build_file_index('test', classes_dict)\n",
        "valid_video_index = build_file_index('valid', classes_dict)\n",
        "train_video_index = build_file_index('train', classes_dict)"
      ],
      "metadata": {
        "id": "T9PNGwpmzdxi"
      },
      "execution_count": 32,
      "outputs": []
    },
    {
      "cell_type": "code",
      "source": [
        "def count_frames(prefix_folder, classes_dict):\n",
        "  video_list = set()\n",
        "  storage_client = storage.Client()\n",
        "  bucket = storage_client.bucket(BUCKET_NAME)\n",
        "  \n",
        "  #Measure number of frames\n",
        "  min_frame_count = 1000\n",
        "  max_frame_count = 0\n",
        "  frame_counts = []\n",
        "  counter = 0\n",
        "  \n",
        "  for blob in bucket.list_blobs(prefix=prefix_folder + '/'):\n",
        "    blob_path = blob.name\n",
        "    blob_components = blob_path.split('/')\n",
        "    class_name, video_path = blob_components[1],  '/'.join(blob_components[:-1])\n",
        "    if video_path in video_list:\n",
        "      counter += 1\n",
        "      continue\n",
        "    else:\n",
        "      max_frame_count = max(max_frame_count, counter)\n",
        "      if counter != 0:\n",
        "        min_frame_count = min(min_frame_count, counter)\n",
        "      frame_counts.append(counter)\n",
        "      if counter > 300:\n",
        "        print(video_path)\n",
        "      counter = 1\n",
        "      video_list.add(video_path)\n",
        "  print(min_frame_count, max_frame_count)\n",
        "  return sorted(frame_counts)\n",
        "\n",
        "\n",
        "  \n",
        "frame_counts = count_frames('valid', classes_dict)"
      ],
      "metadata": {
        "id": "FEAvurbS-aXO",
        "colab": {
          "base_uri": "https://localhost:8080/"
        },
        "outputId": "80bf290e-2038-4500-a6e5-67340423e70a"
      },
      "execution_count": 33,
      "outputs": [
        {
          "output_type": "stream",
          "name": "stdout",
          "text": [
            "valid/brush_hair/Brushing_my_Long_Hair__February_2009_brush_hair_u_nm_np1_ba_goo_2\n",
            "valid/brush_hair/brush_my_hair_without_wearing_the_glasses_brush_hair_u_nm_np1_fr_goo_2\n",
            "valid/climb/DM_Sportklettern_2006-_Finale_Herren_-_Markus_Hoppe_climb_f_cm_np1_ri_med_1\n",
            "valid/kiss/TVs_Best_Kisses_Top_50_(30_to_21)_kiss_h_nm_np2_le_goo_4\n",
            "valid/laugh/Skype_Laughter_Chain_Reaction_laugh_h_cm_np1_fr_goo_2\n",
            "valid/pullup/100_pullups_pullup_f_nm_np1_fr_med_1\n",
            "valid/ride_horse/ChelseaLately-Chelsea_ride_horse_f_cm_np1_le_med_5\n",
            "valid/shoot_bow/Fellowship_7_shoot_bow_h_nm_np1_fr_goo_10\n",
            "valid/shoot_bow/JuanReneSerranoSemifinal_shoot_bow_u_cm_np1_fr_goo_6\n",
            "valid/shoot_bow/ParkKyungMo_shoot_bow_f_cm_np2_fr_med_0\n",
            "valid/swing_baseball/Faith_Rewarded_swing_baseball_f_cm_np1_ri_bad_37\n",
            "valid/wave/50_FIRST_DATES_wave_u_cm_np1_fr_goo_30\n",
            "22 532\n"
          ]
        }
      ]
    },
    {
      "cell_type": "code",
      "source": [
        "len(test_video_index), len(valid_video_index), len(train_video_index), len(frame_counts)"
      ],
      "metadata": {
        "id": "hv9qxlgq7C3T",
        "colab": {
          "base_uri": "https://localhost:8080/"
        },
        "outputId": "37c0de49-ed8b-4d32-d803-d31b1363e8a5"
      },
      "execution_count": 14,
      "outputs": [
        {
          "output_type": "execute_result",
          "data": {
            "text/plain": [
              "(88, 88, 662, 700)"
            ]
          },
          "metadata": {},
          "execution_count": 14
        }
      ]
    },
    {
      "cell_type": "code",
      "source": [
        "print(frame_counts)"
      ],
      "metadata": {
        "id": "9_ACxZFBAG5m",
        "colab": {
          "base_uri": "https://localhost:8080/"
        },
        "outputId": "e58c2728-fbc5-4fee-a2c3-1445feab42cf"
      },
      "execution_count": 34,
      "outputs": [
        {
          "output_type": "stream",
          "name": "stdout",
          "text": [
            "[0, 22, 22, 22, 24, 25, 26, 29, 29, 31, 31, 31, 32, 33, 33, 33, 33, 33, 33, 33, 33, 33, 34, 34, 34, 35, 35, 35, 35, 35, 36, 36, 36, 36, 36, 36, 37, 37, 37, 38, 38, 38, 39, 40, 40, 40, 40, 40, 40, 40, 40, 40, 40, 40, 41, 41, 41, 41, 41, 41, 41, 42, 42, 42, 42, 42, 42, 42, 43, 43, 43, 44, 44, 44, 44, 44, 44, 44, 44, 44, 45, 45, 45, 45, 45, 45, 46, 46, 46, 46, 46, 46, 46, 46, 47, 47, 47, 47, 47, 47, 47, 47, 47, 47, 48, 48, 48, 48, 48, 48, 48, 48, 48, 48, 48, 48, 48, 48, 48, 48, 48, 48, 48, 48, 48, 48, 48, 48, 48, 49, 49, 49, 49, 49, 49, 49, 49, 49, 49, 50, 50, 50, 50, 50, 50, 50, 50, 50, 50, 50, 51, 51, 51, 52, 52, 52, 52, 52, 52, 53, 53, 53, 53, 53, 53, 53, 53, 53, 53, 54, 54, 54, 54, 54, 54, 54, 54, 54, 54, 54, 54, 54, 55, 55, 55, 55, 55, 55, 55, 56, 56, 57, 57, 57, 58, 58, 58, 58, 58, 58, 59, 59, 60, 60, 60, 60, 60, 61, 61, 61, 61, 61, 62, 62, 62, 62, 62, 62, 62, 63, 63, 64, 64, 64, 64, 65, 65, 65, 65, 65, 66, 66, 66, 67, 67, 67, 67, 68, 68, 69, 69, 69, 71, 71, 71, 71, 71, 72, 72, 72, 72, 74, 74, 74, 74, 74, 74, 74, 74, 75, 75, 75, 75, 75, 75, 75, 75, 76, 76, 76, 76, 76, 76, 76, 76, 76, 76, 77, 77, 77, 77, 77, 77, 77, 77, 77, 77, 77, 77, 77, 77, 77, 77, 77, 77, 77, 77, 77, 77, 77, 77, 77, 77, 78, 78, 78, 78, 78, 78, 78, 78, 78, 78, 78, 78, 78, 78, 78, 78, 78, 78, 78, 78, 78, 78, 78, 78, 78, 78, 78, 78, 78, 78, 78, 78, 78, 78, 78, 78, 78, 78, 78, 78, 78, 78, 78, 78, 78, 78, 79, 79, 79, 79, 79, 79, 79, 79, 79, 79, 79, 79, 79, 79, 79, 79, 79, 79, 79, 79, 79, 79, 79, 79, 79, 79, 79, 79, 79, 79, 79, 79, 79, 79, 79, 79, 79, 79, 79, 79, 79, 79, 79, 79, 79, 79, 79, 79, 79, 79, 79, 79, 79, 79, 79, 79, 79, 79, 79, 79, 80, 80, 80, 80, 80, 80, 80, 80, 80, 80, 80, 80, 80, 80, 80, 80, 80, 80, 80, 80, 80, 81, 81, 81, 81, 81, 81, 81, 81, 81, 81, 81, 81, 81, 82, 82, 82, 82, 82, 82, 82, 82, 82, 83, 83, 83, 83, 83, 83, 83, 83, 83, 83, 83, 83, 84, 84, 84, 84, 85, 85, 85, 85, 86, 86, 86, 86, 86, 87, 87, 87, 87, 87, 88, 89, 89, 90, 91, 91, 91, 92, 92, 92, 92, 92, 93, 93, 94, 94, 95, 95, 95, 95, 96, 96, 98, 98, 98, 98, 99, 99, 100, 101, 101, 101, 101, 101, 101, 102, 102, 103, 104, 104, 104, 104, 104, 104, 104, 104, 105, 105, 105, 105, 106, 106, 106, 106, 106, 107, 107, 107, 107, 108, 108, 108, 109, 109, 109, 109, 110, 111, 111, 111, 111, 112, 112, 112, 113, 113, 113, 113, 114, 114, 114, 115, 115, 115, 116, 116, 117, 117, 117, 118, 118, 118, 118, 119, 120, 122, 122, 124, 124, 124, 124, 126, 127, 127, 129, 130, 130, 130, 131, 132, 132, 132, 132, 133, 135, 135, 136, 136, 137, 137, 138, 138, 138, 139, 140, 140, 141, 141, 141, 141, 142, 142, 143, 143, 144, 145, 147, 148, 148, 149, 150, 150, 151, 151, 152, 152, 154, 155, 155, 156, 156, 157, 158, 158, 159, 165, 167, 173, 176, 177, 177, 180, 180, 183, 184, 186, 186, 190, 191, 191, 192, 194, 198, 198, 201, 204, 206, 213, 214, 215, 216, 219, 220, 224, 225, 226, 230, 234, 239, 239, 254, 255, 258, 260, 261, 267, 267, 267, 272, 273, 274, 279, 288, 292, 294, 294, 306, 314, 317, 337, 347, 349, 363, 366, 394, 423, 485, 532]\n"
          ]
        }
      ]
    },
    {
      "cell_type": "code",
      "source": [
        "plt.hist(frame_counts)"
      ],
      "metadata": {
        "id": "7j2wQ24dIGf3",
        "colab": {
          "base_uri": "https://localhost:8080/",
          "height": 336
        },
        "outputId": "34fe3a97-9230-4249-a8da-227d43e77f1a"
      },
      "execution_count": 35,
      "outputs": [
        {
          "output_type": "execute_result",
          "data": {
            "text/plain": [
              "(array([169., 368., 100.,  22.,  18.,  14.,   5.,   2.,   0.,   2.]),\n",
              " array([  0. ,  53.2, 106.4, 159.6, 212.8, 266. , 319.2, 372.4, 425.6,\n",
              "        478.8, 532. ]),\n",
              " <a list of 10 Patch objects>)"
            ]
          },
          "metadata": {},
          "execution_count": 35
        },
        {
          "output_type": "display_data",
          "data": {
            "text/plain": [
              "<Figure size 432x288 with 1 Axes>"
            ],
            "image/png": "[encoded data removed]"
          },
          "metadata": {
            "needs_background": "light"
          }
        }
      ]
    },
    {
      "cell_type": "markdown",
      "source": [
        "### Attempt parallization"
      ],
      "metadata": {
        "id": "3TKYIgVvToCr"
      }
    },
    {
      "cell_type": "code",
      "source": [
        "#Worker Manager for parallel google cloud dataset building request\n",
        "import queue\n",
        "from threading import Thread, Lock\n",
        "from queue import Empty, Queue\n",
        "import traceback\n",
        "\n",
        "class WorkerManager:\n",
        "    '''\n",
        "    Class that handles multithreading\n",
        "    '''\n",
        "    \n",
        "    class WorkerMangerException(Exception):\n",
        "        pass\n",
        "\n",
        "    def __init__(self, target_func, worker_num=20) -> None:\n",
        "        self._threads = []\n",
        "        self._worker_num = worker_num\n",
        "        self._target_function = target_func\n",
        "        self._stop = True\n",
        "        self._queue = Queue(worker_num * 5)\n",
        "        self._lock = Lock()\n",
        "    \n",
        "    def start(self):\n",
        "        '''\n",
        "        Initialize worker manager\n",
        "        '''\n",
        "        with self._lock:\n",
        "            if not self._stop:\n",
        "                raise self.WorkerMangerException(\"Worker Manager has already started\")\n",
        "\n",
        "            self._stop = False\n",
        "            for idx in range(self._worker_num):\n",
        "                thread = Thread(target=self.assign_thread_to_task, name=\"%d thread\" % (idx))\n",
        "                thread.setDaemon(True)\n",
        "                self._threads.append(thread)\n",
        "                thread.start()\n",
        "            \n",
        "        return\n",
        "    \n",
        "    def put(self, record, idx):\n",
        "        '''\n",
        "        Add record to queue\n",
        "        '''\n",
        "        if self._stop:\n",
        "            raise self.WorkerMangerException(\"Worker Manger has not been started\")\n",
        "        self._queue.put((record, idx))\n",
        "    \n",
        "    def stop(self):\n",
        "        '''\n",
        "        Stops the worker manager, joins remaining threads\n",
        "        '''\n",
        "        with self._lock:\n",
        "            if self._stop:\n",
        "                return\n",
        "            self._stop = True\n",
        "            \n",
        "        for thread in self._threads:\n",
        "            thread.join()\n",
        "    \n",
        "\n",
        "    def assign_thread_to_task(self):\n",
        "        '''\n",
        "        Pull from Queue and assign each thread to a task if workers are available\n",
        "        '''\n",
        "        def handle_stop():\n",
        "            if self._stop:\n",
        "                pass#print(\"queue is empty\")\n",
        "        while not self._stop:\n",
        "            self._lock.acquire()\n",
        "            while not self._queue.empty():\n",
        "                self._lock.release()\n",
        "                try:\n",
        "                    self._lock.acquire()\n",
        "                    record, idx = self._queue.get()\n",
        "                    self._lock.release()\n",
        "                    self._target_function(record, idx)\n",
        "                except Empty:\n",
        "                    print('empty queue at this time')\n",
        "                    handle_stop()\n",
        "                except Exception as e:\n",
        "                    traceback.print_exc()\n",
        "                    print(\"%s exception occured for idx: %s, record: %s\" % (e, idx, record))\n",
        "                self._lock.acquire()\n",
        "\n",
        "            self._lock.release()\n",
        "        handle_stop()\n",
        "\n"
      ],
      "metadata": {
        "id": "vYSxw1r2SzeR"
      },
      "execution_count": 36,
      "outputs": []
    },
    {
      "cell_type": "code",
      "source": [
        "#Cell to test if threading/queueing works (it does)\n",
        "#TEST CELL NO NEED TO RUN\n",
        "storage_client = storage.Client()\n",
        "bucket = storage_client.bucket(BUCKET_NAME)\n",
        "\n",
        "import time\n",
        "start = time.time()\n",
        "vid_list = []\n",
        "\n",
        "lock = Lock()\n",
        "\n",
        "\n",
        "test_transform = transforms.Compose([\n",
        "      transforms.PILToTensor(),\n",
        "      transforms.Grayscale(num_output_channels=1),\n",
        "      transforms.Resize((64)),\n",
        "      transforms.CenterCrop(64),\n",
        "      transforms.Lambda(lambda x: x.float()),\n",
        "      transforms.Normalize((0.5,), (0.5,)),\n",
        "      transforms.Lambda(lambda x: x.long())\n",
        "    ])\n",
        "\n",
        "def multi_thread_handler(blob, idx):\n",
        "    str_blob = blob.download_as_string()\n",
        "    bytes_str = io.BytesIO(str_blob)\n",
        "    img = Image.open(bytes_str)\n",
        "    img = test_transform(img)\n",
        "    #print(price, url)\n",
        "    with lock:\n",
        "        vid_list.append((idx, img))\n",
        "\n",
        "worker_manager = WorkerManager(multi_thread_handler, 15)\n",
        "worker_manager.start()\n",
        "\n",
        "#Looping through 75 frames takes about 45 seconds w/ no para\n",
        "for idx, blob in enumerate(bucket.list_blobs(prefix='test/chew/Big_League_Chew_chew_h_nm_np1_fr_goo_2' + '/')):\n",
        "  worker_manager.put(blob, idx)\n",
        "\n",
        "\n",
        "print('End of worker manager')\n",
        "worker_manager.stop() \n",
        "\n",
        "vid_list.sort(key = lambda x: x[0])\n",
        "print(\"%2f\" % (time.time() - start))"
      ],
      "metadata": {
        "id": "ep9uwpBRTq4X",
        "colab": {
          "base_uri": "https://localhost:8080/"
        },
        "outputId": "96d86044-14de-4fe1-b55f-000738331fc0"
      },
      "execution_count": 37,
      "outputs": [
        {
          "output_type": "stream",
          "name": "stdout",
          "text": [
            "End of worker manager\n",
            "1.421505\n"
          ]
        }
      ]
    },
    {
      "cell_type": "markdown",
      "source": [
        "Drop after 100 frames"
      ],
      "metadata": {
        "id": "65pWHcBCKPYK"
      }
    },
    {
      "cell_type": "code",
      "execution_count": 38,
      "metadata": {
        "id": "gL-hqHd1WDk4"
      },
      "outputs": [],
      "source": [
        "## Image DataSet Item\n",
        "\n",
        "class VideoDataset(Dataset):\n",
        "    \n",
        "    \"\"\"\n",
        "    ImageDataset\n",
        "    \"\"\"\n",
        "    \n",
        "    def __init__(self,\n",
        "                 dir,\n",
        "                 max_frame_count,\n",
        "                 video_path_list,\n",
        "                 classes_dict,\n",
        "                 transforms=None,\n",
        "                 ):\n",
        "        \"\"\"        \n",
        "        Args:\n",
        "            dir (list): name of 'root' directory, 'train', 'valid' or 'test'\n",
        "            max_frame_count (int): max frames in a video\n",
        "            video_path_list (list): name of all video paths\n",
        "            classes_dict (dict): Lookup dict of class names to index\n",
        "            transforms (list or None): Image transformations to apply upon loading.\n",
        "        \"\"\"\n",
        "        \n",
        "        self.transform = transforms\n",
        "        self.classes_dict = classes_dict\n",
        "        self.video_path_list = video_path_list\n",
        "        self.dir = dir + '/'\n",
        "        storage_client = storage.Client()\n",
        "        self.max_frame_count = max_frame_count\n",
        "        self.bucket = storage_client.bucket(BUCKET_NAME)\n",
        "        self.lock = Lock()\n",
        "\n",
        "    def __len__(self):\n",
        "        \"\"\"\n",
        "        Get length of the dataset\n",
        "        \"\"\"\n",
        "        return len(self.video_path_list)\n",
        "\n",
        "\n",
        "    def _get_video_item_old(self, idx):\n",
        "      '''\n",
        "      Non parrallel way of getting video items\n",
        "      '''\n",
        "      video_path = self.video_path_list[idx]\n",
        "      label = self.classes_dict[video_path.split('/')[1]]\n",
        "      #print(video_path, label, video_path.split('/')[1], \"HI\")\n",
        "      video_list = []\n",
        "\n",
        "      for idx, blob in enumerate(self.bucket.list_blobs(prefix=video_path + '/')):\n",
        "        if idx >= self.max_frame_count:\n",
        "          break\n",
        "        str_blob = blob.download_as_string()\n",
        "        bytes_str = io.BytesIO(str_blob)\n",
        "        img = Image.open(bytes_str)\n",
        "\n",
        "        if self.transform:\n",
        "            img = self.transform(img)\n",
        "        video_list.append(img)\n",
        "      \n",
        "      if self.max_frame_count > len(video_list):\n",
        "        zero_padding = [torch.zeros(1, 64, 64).long() for _ in range(self.max_frame_count - len(video_list))]\n",
        "        video_list += zero_padding\n",
        "      \n",
        "      #Redo for parrallel purposes\n",
        "      video = torch.cat(tuple(video_list), 0)\n",
        "      return video, label\n",
        "    \n",
        "    #Potential TODO: Add frame offset to start at center\n",
        "    def _get_video_item(self, idx):\n",
        "      '''\n",
        "      Parrallel way of getting video items\n",
        "      '''\n",
        "      video_path = self.video_path_list[idx]\n",
        "      label = self.classes_dict[video_path.split('/')[1]]\n",
        "      #print(video_path, label, video_path.split('/')[1], \"HI\")\n",
        "      video_list = []\n",
        "\n",
        "      def multi_thread_handler(blob, idx):\n",
        "        str_blob = blob.download_as_string()\n",
        "        bytes_str = io.BytesIO(str_blob)\n",
        "        img = Image.open(bytes_str)\n",
        "        \n",
        "        #print(price, url)\n",
        "        with self.lock:\n",
        "            img = self.transform(img)\n",
        "            video_list.append((idx, img))\n",
        "\n",
        "      worker_manager = WorkerManager(multi_thread_handler, 15)\n",
        "      worker_manager.start()\n",
        "\n",
        "      bucket = self.bucket\n",
        "      for idx, blob in enumerate(bucket.list_blobs(prefix=video_path + '/')):\n",
        "        if idx < self.max_frame_count:\n",
        "          worker_manager.put(blob, idx)\n",
        "\n",
        "      #Get just the video frames\n",
        "      worker_manager.stop() \n",
        "      video_list.sort(key = lambda x: x[0])\n",
        "      video_list_clean = [x[1] for x in video_list]\n",
        "      \n",
        "      #Pad rest of video\n",
        "      if self.max_frame_count > len(video_list_clean):\n",
        "        zero_padding = [torch.zeros(3, 64, 64).long() for _ in range(self.max_frame_count - len(video_list_clean))]\n",
        "        video_list_clean += zero_padding\n",
        "      \n",
        "      #Redo for parrallel purposes\n",
        "      video = torch.stack(video_list_clean, 0)\n",
        "      return video, label\n",
        "\n",
        "\n",
        "    def __getitem__(self,\n",
        "                    idx):\n",
        "        \"\"\"\n",
        "        Gets the image and target\n",
        "        \"\"\"\n",
        "        img, target = self._get_video_item(idx)\n",
        "        return img, target"
      ]
    },
    {
      "cell_type": "code",
      "source": [
        "#HYPER PARAM\n",
        "TRAIN_BATCH_SIZE = 32\n",
        "VAL_BATCH_SIZE = 32 \n",
        "MAX_FRAME_COUNT = 75 \n",
        "'''\n",
        "dir,\n",
        "max_frame_count,\n",
        "video_path_list,\n",
        "classes_dict\n",
        "'''\n",
        "\n",
        "##Now create dataloader\n",
        "img_transform = transforms.Compose([\n",
        "      transforms.PILToTensor(),\n",
        "      #transforms.Grayscale(num_output_channels=1),\n",
        "      transforms.Resize((64)),\n",
        "      transforms.CenterCrop(64),\n",
        "      transforms.Lambda(lambda x: x.float()),\n",
        "      transforms.Normalize((0.5,), (0.5,)),\n",
        "      #transforms.Lambda(lambda x: x.long())\n",
        "    ])\n",
        "\n",
        "train_dataset=VideoDataset(dir=\"train\", max_frame_count=MAX_FRAME_COUNT, video_path_list=train_video_index, classes_dict=classes_dict,  transforms=img_transform)\n",
        "validation_dataset=VideoDataset(dir=\"valid\", max_frame_count=MAX_FRAME_COUNT, video_path_list=valid_video_index, classes_dict=classes_dict, transforms=img_transform)\n",
        "test_dataset=VideoDataset(dir='test', max_frame_count=MAX_FRAME_COUNT, video_path_list=test_video_index, classes_dict=classes_dict, transforms=img_transform)\n",
        "\n",
        "train_dataloader = DataLoader(train_dataset, batch_size=TRAIN_BATCH_SIZE, shuffle=True, pin_memory=True, num_workers=2, prefetch_factor=2 ) ##\n",
        "validation_dataloader = DataLoader(validation_dataset, batch_size=VAL_BATCH_SIZE, shuffle=True, pin_memory=True, num_workers=2, prefetch_factor=2) #, \n",
        "test_dataloader = DataLoader(test_dataset, batch_size=1, shuffle=False, pin_memory=True)\n"
      ],
      "metadata": {
        "id": "AAw-LudnXlVL"
      },
      "execution_count": 39,
      "outputs": []
    },
    {
      "cell_type": "code",
      "source": [
        "#Batch size of 32 takes 6 min (75 frames), 5 min 11 seconds (60 frames)\n",
        "#Batch size 8 was like 72 seconds\n",
        "import time\n",
        "start = time.time()\n",
        "total_hit = 0\n",
        "device = 'cuda' if torch.cuda.is_available() else 'cpu'\n",
        "for i, (x,y) in enumerate(test_dataloader):\n",
        "  x = x.to(device)\n",
        "  y = y.to(device)\n",
        "  print(x.device, x.shape)\n",
        "  print(\"%2f\" % (time.time() - start))\n",
        "  print(i, x.shape, y, len(y))\n",
        "  total_hit += len(y)\n",
        "  break\n",
        "\n"
      ],
      "metadata": {
        "id": "ebOxBUx8ZpzC",
        "colab": {
          "base_uri": "https://localhost:8080/"
        },
        "outputId": "bb6164ac-81c5-4d7b-cbf8-e40165252e58"
      },
      "execution_count": 20,
      "outputs": [
        {
          "output_type": "stream",
          "name": "stdout",
          "text": [
            "cuda:0 torch.Size([1, 75, 3, 64, 64])\n",
            "13.795006\n",
            "0 torch.Size([1, 75, 3, 64, 64]) tensor([6], device='cuda:0') 1\n"
          ]
        }
      ]
    },
    {
      "cell_type": "code",
      "source": [
        "classes_dict, total_hit"
      ],
      "metadata": {
        "id": "4IqlL7edaR7l",
        "colab": {
          "base_uri": "https://localhost:8080/"
        },
        "outputId": "abbb6d0f-1fdf-45f6-dbc2-35e111ef588b"
      },
      "execution_count": 21,
      "outputs": [
        {
          "output_type": "execute_result",
          "data": {
            "text/plain": [
              "({'brush-hair': 1,\n",
              "  'catch': 2,\n",
              "  'climb': 3,\n",
              "  'eat': 4,\n",
              "  'kiss': 9,\n",
              "  'pick': 5,\n",
              "  'pour': 6,\n",
              "  'sit-up': 8,\n",
              "  'smile': 7,\n",
              "  'wave': 0},\n",
              " 1)"
            ]
          },
          "metadata": {},
          "execution_count": 21
        }
      ]
    },
    {
      "cell_type": "markdown",
      "source": [
        "### Defining ConvLSTM Model"
      ],
      "metadata": {
        "id": "zuonoOGbuuei"
      }
    },
    {
      "cell_type": "code",
      "source": [
        "#Create a ConvLSTM Model, use VGG16 for transfer learning\n",
        "from torchvision.models import vgg16\n",
        "\n",
        "class ConvLSTM(nn.Module):\n",
        "    def __init__(self, model_fn, model_name, input_size, fc_size, lstm_layers, hidden_size, num_classes):\n",
        "        super(ConvLSTM, self).__init__()\n",
        "\n",
        "        \n",
        "        '''self.conv1 = nn.Conv2d(input_size, 64, 3)\n",
        "        self.conv2 = nn.Conv2d(64, 64, 3)\n",
        "        self.bn_conv = nn.BatchNorm2d(64)\n",
        "        self,max_pool = nn.MaxPool2d(2)\n",
        "        self.avg_pool = nn.AvgPool2d(2)\n",
        "        self.Linear_One = nn.Linear(in_features, 256)\n",
        "        self.bn_two = nn.BatchNorm1d(256)\n",
        "        self.output_layer = nn.Linear(256, num_classes)'''\n",
        "\n",
        "        ##activations:\n",
        "        self.relu = nn.ReLU()\n",
        "        \n",
        "        if model_name == 'vgg_16':\n",
        "          original_model = model_fn(pretrained=True)\n",
        "          self.conv_features = nn.Sequential(*list(original_model.children())[:-1])\n",
        "          for i, param in enumerate(self.conv_features.parameters()):\n",
        "            if i < 20:\n",
        "              param.requires_grad = False\n",
        "          self.fc_prelstm = nn.Sequential(nn.Linear(25088, fc_size), nn.Dropout())\n",
        "          self.lstm = nn.LSTM(input_size = fc_size,\n",
        "              hidden_size = hidden_size,\n",
        "              num_layers = lstm_layers,\n",
        "              batch_first = True)\n",
        "          \n",
        "          self.output_layer = nn.Linear(hidden_size, num_classes)\n",
        "          self.modelName = 'vgg16_lstm'\n",
        "        else:\n",
        "          #TODO: Support Basic ConvLSTM here\n",
        "          self.modelName = 'Basic'\n",
        "          raise Exception(\"This architecture has not been supported yet\")\n",
        "    \n",
        "\n",
        "    def _build_basic_conv():\n",
        "      '''\n",
        "      Model that builds basic ConvNet\n",
        "      '''\n",
        "      pass\n",
        "                \n",
        "    def forward(self, input_data):\n",
        "        '''\n",
        "        Forward data through the lstm\n",
        "        '''\n",
        "        length = len(input_data)\n",
        "        feature_store = torch.zeros(length, input_data[0].size(0), self.lstm.input_size).cuda()\n",
        "\n",
        "        for i in range(input_data[0].size(0)):\n",
        "          feature_at_i = self.conv_features(input_data[:, i, :, :])\n",
        "          #feature_at_i = self.conv_features(input_data[i])\n",
        "          \n",
        "          feature_at_i= feature_at_i.view(feature_at_i.size(0), -1)\n",
        "          feature_at_i = self.fc_prelstm(feature_at_i)\n",
        "          feature_store[:, i, :] = feature_at_i\n",
        "\n",
        "        outputs, hidden = self.lstm(feature_store, None)\n",
        "        outputs = self.output_layer(outputs)\n",
        "\n",
        "        return outputs"
      ],
      "metadata": {
        "id": "rGHjDFMmqaoa"
      },
      "execution_count": 40,
      "outputs": []
    },
    {
      "cell_type": "markdown",
      "source": [
        "### Training Loop"
      ],
      "metadata": {
        "id": "ieeXXvFPvok2"
      }
    },
    {
      "cell_type": "code",
      "source": [
        "###Define Plot Function\n",
        "def plot_loss_charts(train_loss_store, val_loss_store):\n",
        "  '''\n",
        "  Plots loss charts over course of training\n",
        "  '''\n",
        "\n",
        "  ## Plotting epoch-wise test loss curve:\n",
        "  plt.plot(train_loss_store, '-o', label = 'train_loss', color = 'blue')\n",
        "  plt.plot(val_loss_store, '-o', label = 'validation_loss', color = 'orange')\n",
        "  plt.xlabel('Epoch Number')\n",
        "  plt.ylabel('Loss At each epoch of training')\n",
        "  plt.legend()\n",
        "  plt.show()\n",
        "\n",
        "def plot_acc_charts(train_acc_score, val_acc_score):\n",
        "  '''\n",
        "  Plot Accuracy\n",
        "  '''\n",
        "  plt.plot(train_acc_score, '-o', label = 'train_accuracy', color = 'blue')\n",
        "  plt.plot(val_acc_score, '-o', label = 'validation_accuracy', color = 'orange')\n",
        "  plt.xlabel('Epoch Number')\n",
        "  plt.ylabel('Accuracy At each epoch of training')\n",
        "  plt.legend()\n",
        "  plt.show()"
      ],
      "metadata": {
        "id": "pH-SryPNB-jh"
      },
      "execution_count": 41,
      "outputs": []
    },
    {
      "cell_type": "code",
      "source": [
        "##Define Loss and Accuracy Eval Function\n",
        "def eval_acc_loss(model, loader, device, loss_metric, is_train = False, verbose = 1):\n",
        "    '''\n",
        "    Evaluate Function for CNN training\n",
        "    Slightly different than eval function from part 1\n",
        "    '''\n",
        "    correct, total, loss_sum = 0, 0, 0\n",
        "    \n",
        "    eval_type = \"Train\" if is_train else \"Validation\"\n",
        "    for X, labels in loader:\n",
        "        outputs, predicted, calculated_loss = None, None, None\n",
        "        X, labels = X.to(device), labels.to(device)\n",
        "\n",
        "        outputs = model(X)\n",
        "        outputs = outputs[:, -1, :]\n",
        "        _, predicted = torch.max(outputs, 1)\n",
        "        \n",
        "        total += labels.size(0)\n",
        "        \n",
        "        correct += (predicted == labels).sum().item()\n",
        "        calculated_loss = loss_metric(outputs,labels).item()\n",
        "        loss_sum += calculated_loss\n",
        "        \n",
        "    outputs, predicted, calculated_loss = None, None, None\n",
        "    if verbose:\n",
        "        print('%s accuracy: %f %%' % (eval_type, 100.0 * correct / total))\n",
        "        print('%s loss: %f' % (eval_type, loss_sum / total))\n",
        "    print\n",
        "    return 100.0 * correct / total, loss_sum/ total"
      ],
      "metadata": {
        "id": "Eh0M1Svj3tnX"
      },
      "execution_count": 42,
      "outputs": []
    },
    {
      "cell_type": "code",
      "source": [
        "#Code to save a model and epoch stats\n",
        "import json\n",
        "def handle_model_save(val_acc_store, val_loss_store, train_loss_store, train_acc_store,\n",
        "                      base_path, model_name, epoch_num, model, optimizer):\n",
        "  '''\n",
        "  Function for saving models and training data\n",
        "  '''\n",
        "  save_dict = {\n",
        "      'val_acc_store': val_acc_store,\n",
        "      'val_loss_store': val_loss_store,\n",
        "      'train_loss_store': train_loss_store,\n",
        "      'train_acc_store': train_acc_store,\n",
        "      'epoch': epoch_num,\n",
        "  }\n",
        "  traing_info_path = \"%s/training_data/%s_%s.json\" % (base_path, model_name, epoch_num)\n",
        "  with open(traing_info_path, 'w') as f:\n",
        "    json.dump(save_dict, f)\n",
        "\n",
        "  MODEL_PATH = \"%s/models/%s_%s\" % (base_path, model_name, epoch_num)\n",
        "  torch.save({\n",
        "              'model_state_dict': model.state_dict(),\n",
        "              'optimizer_state_dict': optimizer.state_dict(),\n",
        "              }, MODEL_PATH)\n",
        "\n",
        "\n",
        "def load_train_data(traing_info_path):\n",
        "  with open(traing_info_path) as json_file:\n",
        "    data = json.load(json_file)\n",
        "  \n",
        "  return data['val_acc_store'], data['val_loss_store'], data['train_loss_store'], data['train_acc_store'], int(data['epoch'])\n",
        "  "
      ],
      "metadata": {
        "id": "pORpCmbh6IqI"
      },
      "execution_count": 43,
      "outputs": []
    },
    {
      "cell_type": "code",
      "source": [
        "#Note, train 20 - 25 epochs\n",
        "def train(model,\n",
        "          optimizer,\n",
        "          loss_metric,\n",
        "          lr,\n",
        "          train_dataloader,\n",
        "          valid_dataloader,\n",
        "          device,\n",
        "          epochs=5,\n",
        "          stopping_threshold=3,\n",
        "          saving_per_epoch=10,\n",
        "          base_save_path=\"\",\n",
        "          model_name=\"\",\n",
        "          load_train_hist_path=None,\n",
        "          **kwargs):\n",
        "    \"\"\"\n",
        "    For each epoch, loop through batch,\n",
        "    compute forward and backward passes, apply gradient updates\n",
        "    Evaluate results and output\n",
        "    \"\"\"\n",
        "\n",
        "    #defining batch train loss recording arrays for later visualization/plotting:\n",
        "    #If data already exists, that means the model was preloaded and training should\n",
        "    #resume from where it was interupted\n",
        "    if load_train_hist_path is not None:\n",
        "      val_acc_store, val_loss_store, train_loss_store, train_acc_store, start_epoch =load_train_data(load_train_hist_path)\n",
        "    else:\n",
        "      train_loss_store, train_acc_store = [], []\n",
        "      val_loss_store, val_acc_store, = [], []\n",
        "      start_epoch = 0\n",
        "\n",
        "    #Declare variables for early stopping\n",
        "    last_val_loss, stop_tracker = 100, 0\n",
        "\n",
        "    #training loop:\n",
        "    print(\"Starting Training\")\n",
        "    for epoch in range(start_epoch, epochs):\n",
        "      time1 = time.time() #timekeeping\n",
        "      outputs, loss = None, None\n",
        "\n",
        "      model.train()\n",
        "      \n",
        "      correct_train, total, loss_sum = 0, 0, 0\n",
        "      for i, (x,y) in enumerate(train_dataloader):\n",
        "        \n",
        "        # Print device human readable names\n",
        "        torch.cuda.get_device_name()\n",
        "\n",
        "        x = x.to(device)\n",
        "        y = y.to(device)\n",
        "\n",
        "        #loss calculation and gradient update:\n",
        "\n",
        "        if i > 0 or epoch > 0:\n",
        "          optimizer.zero_grad()\n",
        "        outputs = model.forward(x)\n",
        "\n",
        "        outputs = outputs[:, -1, :]\n",
        "        loss = loss_metric(outputs,y)\n",
        "        loss.backward()\n",
        "                      \n",
        "        ##performing update:\n",
        "        optimizer.step()\n",
        "\n",
        "        #Update Loss Info\n",
        "        loss_sum += loss.item()\n",
        "        _, predicted = torch.max(outputs, 1)\n",
        "        total += y.size(0)\n",
        "        correct_train += (predicted == y).sum().item()\n",
        "\n",
        "      print(\"Epoch\",epoch+1,':')\n",
        "\n",
        "      \n",
        "      model.eval()\n",
        "      with torch.no_grad():\n",
        "\n",
        "        #Print Train Info\n",
        "        print('%s accuracy: %f %%' % (\"Train\", 100.0 * correct_train / total))\n",
        "        print('%s loss: %f' % (\"Train\", loss_sum / total))\n",
        "        print\n",
        "        \n",
        "        train_acc, train_loss = 100.0 * correct_train / total, loss_sum/ total\n",
        "        val_acc, val_loss = eval_acc_loss(model, valid_dataloader, device, loss_metric, is_train = False)\n",
        "\n",
        "        val_acc_store.append(val_acc)\n",
        "        val_loss_store.append(val_loss)\n",
        "\n",
        "        train_loss_store.append(train_loss)\n",
        "        train_acc_store.append(train_acc)\n",
        "\n",
        "      time2 = time.time() #timekeeping\n",
        "      #if show_progress:\n",
        "      print('Elapsed time for epoch:',time2 - time1,'s')\n",
        "      print('ETA of completion:',(time2 - time1)*(epochs - epoch - 1)/60,'minutes')\n",
        "      \n",
        "\n",
        "      #Handle model/stat saving\n",
        "      if (epoch + 1) % saving_per_epoch == 0:\n",
        "        handle_model_save(val_acc_store, val_loss_store, train_loss_store, train_acc_store,\n",
        "                          base_save_path, model_name, epoch + 1, model, optimizer)\n",
        "        print(\"Model Copy Saved\")\n",
        "      print()\n",
        "\n",
        "      #Handle early stopping logic\n",
        "      if val_loss >= last_val_loss:\n",
        "            stop_tracker += 1\n",
        "            if stop_tracker >= stopping_threshold:\n",
        "                print('Early Stopping triggered, Convergence has occured')\n",
        "                plot_loss_charts(train_loss_store, val_loss_store)\n",
        "                plot_acc_charts(train_acc_store, val_acc_store)\n",
        "                handle_model_save(val_acc_store, val_loss_store, train_loss_store, train_acc_store,\n",
        "                  base_save_path, model_name, epoch + 1, model, optimizer)\n",
        "                print(\"Model Copy Saved\")\n",
        "\n",
        "                return train_loss_store, val_acc_store\n",
        "      else:\n",
        "          stop_tracker = 0\n",
        "      last_val_loss = val_loss\n",
        "\n",
        "\n",
        "    plot_loss_charts(train_loss_store, val_loss_store)\n",
        "    plot_acc_charts(train_acc_store, val_acc_store)\n",
        "    return train_loss_store, val_acc_store"
      ],
      "metadata": {
        "id": "sH_PY7IT3wXc"
      },
      "execution_count": 44,
      "outputs": []
    },
    {
      "cell_type": "markdown",
      "source": [
        "### Running loop"
      ],
      "metadata": {
        "id": "cEOE55pvHlY_"
      }
    },
    {
      "cell_type": "code",
      "source": [
        "MODEL_LOAD= True #Set to True if using a model that has some training\n",
        "MODEL_PATH_BASE = \"/content/drive/MyDrive/Dan_Action_Recognition\"\n",
        "MODEL_NAME, LAST_EPOCH = \"vgg16convlstm\", 34\n",
        "\n",
        "#Create the Model (90)\n",
        "conv_lstm_model = ConvLSTM(vgg16, 'vgg_16', input_size=3, fc_size=1024, lstm_layers=2, hidden_size=512, num_classes=10)\n",
        "device = 'cuda' if torch.cuda.is_available() else 'cpu'\n",
        "conv_lstm_model = conv_lstm_model.to(device)\n",
        "\n",
        "#optimizer = torch.optim.SGD(conv_lstm_model.parameters(), lr = 0.01)\n",
        "optimizer = torch.optim.Adam([{'params': conv_lstm_model.conv_features.parameters()},\n",
        "\t                             {'params': conv_lstm_model.fc_prelstm.parameters()},\n",
        "\t\t\t\t\t\t\t\t{'params': conv_lstm_model.lstm.parameters()},\n",
        "\t\t\t\t\t\t\t\t{'params': conv_lstm_model.output_layer.parameters()}],\n",
        "\t\t\t\t\t\t\t\tlr=0.0001) #try 0.0001 Looks like this is ideal combo for params\n",
        "\n",
        "if MODEL_LOAD:\n",
        "\tmodel_path = \"%s/models/%s_%s\" % (MODEL_PATH_BASE, MODEL_NAME, str(LAST_EPOCH))\n",
        "\tmodel_checkpoint = torch.load(model_path)\n",
        "\tconv_lstm_model.load_state_dict(model_checkpoint['model_state_dict'])\n",
        "\toptimizer.load_state_dict(model_checkpoint['optimizer_state_dict'])\n",
        "\n",
        "#optimizer = torch.optim.SGD(conv_lstm_model.parameters(), lr=0.001, momentum=0.9)\n",
        "loss_metric = nn.CrossEntropyLoss()\n"
      ],
      "metadata": {
        "id": "8wJrYadR702u",
        "colab": {
          "base_uri": "https://localhost:8080/",
          "height": 87,
          "referenced_widgets": [
            "cb9ba301be6943cd921a1771e7246e8d",
            "145cf71aedd94e8cb52bc249a33ccd81",
            "42cffa1b42a44f7ba08fa4d1cddcd39c",
            "10429c93272347dca5c57bcfb0f76f29",
            "fdeb3e82812e46e5a67bb77b45106664",
            "64bcb9c4e9f94dd985952385409d9916",
            "2c8c152acd074cbe9972a30840da8654",
            "de5a682784ae436facdd026f14ea5fb2",
            "9a67c52238134aa5b797de503a7219b9",
            "2425e721be154eb9abe48e8e1984ff97",
            "1f3c0c05d07e4c22973774341fc4da9f"
          ]
        },
        "outputId": "e727b16e-b7a3-4696-cbd5-cf21e901cdba"
      },
      "execution_count": 45,
      "outputs": [
        {
          "output_type": "stream",
          "name": "stderr",
          "text": [
            "Downloading: \"https://download.pytorch.org/models/vgg16-397923af.pth\" to /root/.cache/torch/hub/checkpoints/vgg16-397923af.pth\n"
          ]
        },
        {
          "output_type": "display_data",
          "data": {
            "text/plain": [
              "  0%|          | 0.00/528M [00:00<?, ?B/s]"
            ],
            "application/vnd.jupyter.widget-view+json": {
              "version_major": 2,
              "version_minor": 0,
              "model_id": "cb9ba301be6943cd921a1771e7246e8d"
            }
          },
          "metadata": {}
        }
      ]
    },
    {
      "cell_type": "code",
      "source": [
        "if MODEL_LOAD: #train from last x epoch\n",
        "  LOAD_TRAIN_PATH = \"%s/training_data/%s_%s.json\" % (MODEL_PATH_BASE, MODEL_NAME, str(LAST_EPOCH))\n",
        "  train(conv_lstm_model, optimizer, loss_metric, 0.0001, \n",
        "          train_dataloader, validation_dataloader,\n",
        "          device, epochs=100, \n",
        "          stopping_threshold=3, saving_per_epoch=5,\n",
        "          base_save_path=MODEL_PATH_BASE,\n",
        "          model_name=MODEL_NAME,\n",
        "          load_train_hist_path=LOAD_TRAIN_PATH\n",
        "        )\n",
        "else: #train from 1st epoch\n",
        "  train(conv_lstm_model, optimizer, loss_metric, 0.0001, \n",
        "          train_dataloader, validation_dataloader,\n",
        "          device, epochs=100, \n",
        "          stopping_threshold=3, saving_per_epoch=5,\n",
        "          base_save_path=MODEL_PATH_BASE,\n",
        "          model_name=MODEL_NAME\n",
        "        )"
      ],
      "metadata": {
        "id": "fcH-GX-P63mL",
        "colab": {
          "base_uri": "https://localhost:8080/",
          "height": 1000
        },
        "outputId": "02f1dcb2-c69d-4ab8-bfe2-01942ca62018"
      },
      "execution_count": 28,
      "outputs": [
        {
          "output_type": "stream",
          "name": "stdout",
          "text": [
            "Starting Training\n",
            "Epoch 21 :\n",
            "Train accuracy: 85.498489 %\n",
            "Train loss: 0.013443\n",
            "Validation accuracy: 65.909091 %\n",
            "Validation loss: 0.037783\n",
            "Elapsed time for epoch: 268.51230788230896 s\n",
            "ETA of completion: 353.5412053783735 minutes\n",
            "\n",
            "Epoch 22 :\n",
            "Train accuracy: 88.821752 %\n",
            "Train loss: 0.011216\n",
            "Validation accuracy: 65.909091 %\n",
            "Validation loss: 0.041753\n",
            "Elapsed time for epoch: 269.3605146408081 s\n",
            "ETA of completion: 350.16866903305055 minutes\n",
            "\n",
            "Epoch 23 :\n",
            "Train accuracy: 87.009063 %\n",
            "Train loss: 0.012581\n",
            "Validation accuracy: 63.636364 %\n",
            "Validation loss: 0.040108\n",
            "Elapsed time for epoch: 238.31399822235107 s\n",
            "ETA of completion: 305.83629771868385 minutes\n",
            "\n",
            "Epoch 24 :\n",
            "Train accuracy: 88.066465 %\n",
            "Train loss: 0.012057\n",
            "Validation accuracy: 67.045455 %\n",
            "Validation loss: 0.035468\n",
            "Elapsed time for epoch: 253.61318826675415 s\n",
            "ETA of completion: 321.24337180455524 minutes\n",
            "\n",
            "Epoch 25 :\n",
            "Train accuracy: 88.670695 %\n",
            "Train loss: 0.010564\n",
            "Validation accuracy: 64.772727 %\n",
            "Validation loss: 0.034306\n",
            "Elapsed time for epoch: 239.61450457572937 s\n",
            "ETA of completion: 299.5181307196617 minutes\n",
            "Model Copy Saved\n",
            "\n",
            "Epoch 26 :\n",
            "Train accuracy: 91.087613 %\n",
            "Train loss: 0.009029\n",
            "Validation accuracy: 63.636364 %\n",
            "Validation loss: 0.039732\n",
            "Elapsed time for epoch: 238.64232444763184 s\n",
            "ETA of completion: 294.3255334854126 minutes\n",
            "\n",
            "Epoch 27 :\n",
            "Train accuracy: 89.577039 %\n",
            "Train loss: 0.009964\n",
            "Validation accuracy: 67.045455 %\n",
            "Validation loss: 0.039023\n",
            "Elapsed time for epoch: 239.04893326759338 s\n",
            "ETA of completion: 290.8428688089053 minutes\n",
            "\n",
            "Epoch 28 :\n",
            "Train accuracy: 91.238671 %\n",
            "Train loss: 0.009527\n",
            "Validation accuracy: 68.181818 %\n",
            "Validation loss: 0.037370\n",
            "Elapsed time for epoch: 228.36207175254822 s\n",
            "ETA of completion: 274.0344861030579 minutes\n",
            "\n",
            "Epoch 29 :\n",
            "Train accuracy: 93.504532 %\n",
            "Train loss: 0.007448\n",
            "Validation accuracy: 63.636364 %\n",
            "Validation loss: 0.042402\n",
            "Elapsed time for epoch: 230.4452154636383 s\n",
            "ETA of completion: 272.69350496530535 minutes\n",
            "\n",
            "Epoch 30 :\n",
            "Train accuracy: 90.936556 %\n",
            "Train loss: 0.009488\n",
            "Validation accuracy: 59.090909 %\n",
            "Validation loss: 0.046734\n",
            "Elapsed time for epoch: 226.44482326507568 s\n",
            "ETA of completion: 264.1856271425883 minutes\n",
            "Model Copy Saved\n",
            "\n",
            "Epoch 31 :\n",
            "Train accuracy: 87.764350 %\n",
            "Train loss: 0.011239\n",
            "Validation accuracy: 65.909091 %\n",
            "Validation loss: 0.042387\n",
            "Elapsed time for epoch: 241.4237563610077 s\n",
            "ETA of completion: 277.63731981515883 minutes\n",
            "\n",
            "Epoch 32 :\n",
            "Train accuracy: 95.015106 %\n",
            "Train loss: 0.006647\n",
            "Validation accuracy: 65.909091 %\n",
            "Validation loss: 0.040779\n",
            "Elapsed time for epoch: 229.0757875442505 s\n",
            "ETA of completion: 259.61922588348386 minutes\n",
            "\n",
            "Epoch 33 :\n",
            "Train accuracy: 94.864048 %\n",
            "Train loss: 0.005904\n",
            "Validation accuracy: 64.772727 %\n",
            "Validation loss: 0.049265\n",
            "Elapsed time for epoch: 234.9045910835266 s\n",
            "ETA of completion: 262.31012670993806 minutes\n",
            "\n",
            "Epoch 34 :\n",
            "Train accuracy: 94.259819 %\n",
            "Train loss: 0.007032\n",
            "Validation accuracy: 69.318182 %\n",
            "Validation loss: 0.040148\n",
            "Elapsed time for epoch: 236.12556171417236 s\n",
            "ETA of completion: 259.7381178855896 minutes\n",
            "\n"
          ]
        },
        {
          "output_type": "error",
          "ename": "KeyboardInterrupt",
          "evalue": "ignored",
          "traceback": [
            "\u001b[0;31m---------------------------------------------------------------------------\u001b[0m",
            "\u001b[0;31mKeyboardInterrupt\u001b[0m                         Traceback (most recent call last)",
            "\u001b[0;32m<ipython-input-28-fd74c9fe95a8>\u001b[0m in \u001b[0;36m<module>\u001b[0;34m()\u001b[0m\n\u001b[1;32m      7\u001b[0m           \u001b[0mbase_save_path\u001b[0m\u001b[0;34m=\u001b[0m\u001b[0mMODEL_PATH_BASE\u001b[0m\u001b[0;34m,\u001b[0m\u001b[0;34m\u001b[0m\u001b[0;34m\u001b[0m\u001b[0m\n\u001b[1;32m      8\u001b[0m           \u001b[0mmodel_name\u001b[0m\u001b[0;34m=\u001b[0m\u001b[0mMODEL_NAME\u001b[0m\u001b[0;34m,\u001b[0m\u001b[0;34m\u001b[0m\u001b[0;34m\u001b[0m\u001b[0m\n\u001b[0;32m----> 9\u001b[0;31m           \u001b[0mload_train_hist_path\u001b[0m\u001b[0;34m=\u001b[0m\u001b[0mLOAD_TRAIN_PATH\u001b[0m\u001b[0;34m\u001b[0m\u001b[0;34m\u001b[0m\u001b[0m\n\u001b[0m\u001b[1;32m     10\u001b[0m         )\n\u001b[1;32m     11\u001b[0m \u001b[0;32melse\u001b[0m\u001b[0;34m:\u001b[0m \u001b[0;31m#train from 1st epoch\u001b[0m\u001b[0;34m\u001b[0m\u001b[0;34m\u001b[0m\u001b[0m\n",
            "\u001b[0;32m<ipython-input-26-c62e0611ccc1>\u001b[0m in \u001b[0;36mtrain\u001b[0;34m(model, optimizer, loss_metric, lr, train_dataloader, valid_dataloader, device, epochs, stopping_threshold, saving_per_epoch, base_save_path, model_name, load_train_hist_path, **kwargs)\u001b[0m\n\u001b[1;32m     42\u001b[0m \u001b[0;34m\u001b[0m\u001b[0m\n\u001b[1;32m     43\u001b[0m       \u001b[0mcorrect_train\u001b[0m\u001b[0;34m,\u001b[0m \u001b[0mtotal\u001b[0m\u001b[0;34m,\u001b[0m \u001b[0mloss_sum\u001b[0m \u001b[0;34m=\u001b[0m \u001b[0;36m0\u001b[0m\u001b[0;34m,\u001b[0m \u001b[0;36m0\u001b[0m\u001b[0;34m,\u001b[0m \u001b[0;36m0\u001b[0m\u001b[0;34m\u001b[0m\u001b[0;34m\u001b[0m\u001b[0m\n\u001b[0;32m---> 44\u001b[0;31m       \u001b[0;32mfor\u001b[0m \u001b[0mi\u001b[0m\u001b[0;34m,\u001b[0m \u001b[0;34m(\u001b[0m\u001b[0mx\u001b[0m\u001b[0;34m,\u001b[0m\u001b[0my\u001b[0m\u001b[0;34m)\u001b[0m \u001b[0;32min\u001b[0m \u001b[0menumerate\u001b[0m\u001b[0;34m(\u001b[0m\u001b[0mtrain_dataloader\u001b[0m\u001b[0;34m)\u001b[0m\u001b[0;34m:\u001b[0m\u001b[0;34m\u001b[0m\u001b[0;34m\u001b[0m\u001b[0m\n\u001b[0m\u001b[1;32m     45\u001b[0m \u001b[0;34m\u001b[0m\u001b[0m\n\u001b[1;32m     46\u001b[0m         \u001b[0;31m# Print device human readable names\u001b[0m\u001b[0;34m\u001b[0m\u001b[0;34m\u001b[0m\u001b[0;34m\u001b[0m\u001b[0m\n",
            "\u001b[0;32m/usr/local/lib/python3.7/dist-packages/torch/utils/data/dataloader.py\u001b[0m in \u001b[0;36m__next__\u001b[0;34m(self)\u001b[0m\n\u001b[1;32m    528\u001b[0m             \u001b[0;32mif\u001b[0m \u001b[0mself\u001b[0m\u001b[0;34m.\u001b[0m\u001b[0m_sampler_iter\u001b[0m \u001b[0;32mis\u001b[0m \u001b[0;32mNone\u001b[0m\u001b[0;34m:\u001b[0m\u001b[0;34m\u001b[0m\u001b[0;34m\u001b[0m\u001b[0m\n\u001b[1;32m    529\u001b[0m                 \u001b[0mself\u001b[0m\u001b[0;34m.\u001b[0m\u001b[0m_reset\u001b[0m\u001b[0;34m(\u001b[0m\u001b[0;34m)\u001b[0m\u001b[0;34m\u001b[0m\u001b[0;34m\u001b[0m\u001b[0m\n\u001b[0;32m--> 530\u001b[0;31m             \u001b[0mdata\u001b[0m \u001b[0;34m=\u001b[0m \u001b[0mself\u001b[0m\u001b[0;34m.\u001b[0m\u001b[0m_next_data\u001b[0m\u001b[0;34m(\u001b[0m\u001b[0;34m)\u001b[0m\u001b[0;34m\u001b[0m\u001b[0;34m\u001b[0m\u001b[0m\n\u001b[0m\u001b[1;32m    531\u001b[0m             \u001b[0mself\u001b[0m\u001b[0;34m.\u001b[0m\u001b[0m_num_yielded\u001b[0m \u001b[0;34m+=\u001b[0m \u001b[0;36m1\u001b[0m\u001b[0;34m\u001b[0m\u001b[0;34m\u001b[0m\u001b[0m\n\u001b[1;32m    532\u001b[0m             \u001b[0;32mif\u001b[0m \u001b[0mself\u001b[0m\u001b[0;34m.\u001b[0m\u001b[0m_dataset_kind\u001b[0m \u001b[0;34m==\u001b[0m \u001b[0m_DatasetKind\u001b[0m\u001b[0;34m.\u001b[0m\u001b[0mIterable\u001b[0m \u001b[0;32mand\u001b[0m\u001b[0;31m \u001b[0m\u001b[0;31m\\\u001b[0m\u001b[0;34m\u001b[0m\u001b[0;34m\u001b[0m\u001b[0m\n",
            "\u001b[0;32m/usr/local/lib/python3.7/dist-packages/torch/utils/data/dataloader.py\u001b[0m in \u001b[0;36m_next_data\u001b[0;34m(self)\u001b[0m\n\u001b[1;32m   1205\u001b[0m \u001b[0;34m\u001b[0m\u001b[0m\n\u001b[1;32m   1206\u001b[0m             \u001b[0;32massert\u001b[0m \u001b[0;32mnot\u001b[0m \u001b[0mself\u001b[0m\u001b[0;34m.\u001b[0m\u001b[0m_shutdown\u001b[0m \u001b[0;32mand\u001b[0m \u001b[0mself\u001b[0m\u001b[0;34m.\u001b[0m\u001b[0m_tasks_outstanding\u001b[0m \u001b[0;34m>\u001b[0m \u001b[0;36m0\u001b[0m\u001b[0;34m\u001b[0m\u001b[0;34m\u001b[0m\u001b[0m\n\u001b[0;32m-> 1207\u001b[0;31m             \u001b[0midx\u001b[0m\u001b[0;34m,\u001b[0m \u001b[0mdata\u001b[0m \u001b[0;34m=\u001b[0m \u001b[0mself\u001b[0m\u001b[0;34m.\u001b[0m\u001b[0m_get_data\u001b[0m\u001b[0;34m(\u001b[0m\u001b[0;34m)\u001b[0m\u001b[0;34m\u001b[0m\u001b[0;34m\u001b[0m\u001b[0m\n\u001b[0m\u001b[1;32m   1208\u001b[0m             \u001b[0mself\u001b[0m\u001b[0;34m.\u001b[0m\u001b[0m_tasks_outstanding\u001b[0m \u001b[0;34m-=\u001b[0m \u001b[0;36m1\u001b[0m\u001b[0;34m\u001b[0m\u001b[0;34m\u001b[0m\u001b[0m\n\u001b[1;32m   1209\u001b[0m             \u001b[0;32mif\u001b[0m \u001b[0mself\u001b[0m\u001b[0;34m.\u001b[0m\u001b[0m_dataset_kind\u001b[0m \u001b[0;34m==\u001b[0m \u001b[0m_DatasetKind\u001b[0m\u001b[0;34m.\u001b[0m\u001b[0mIterable\u001b[0m\u001b[0;34m:\u001b[0m\u001b[0;34m\u001b[0m\u001b[0;34m\u001b[0m\u001b[0m\n",
            "\u001b[0;32m/usr/local/lib/python3.7/dist-packages/torch/utils/data/dataloader.py\u001b[0m in \u001b[0;36m_get_data\u001b[0;34m(self)\u001b[0m\n\u001b[1;32m   1161\u001b[0m         \u001b[0;32melif\u001b[0m \u001b[0mself\u001b[0m\u001b[0;34m.\u001b[0m\u001b[0m_pin_memory\u001b[0m\u001b[0;34m:\u001b[0m\u001b[0;34m\u001b[0m\u001b[0;34m\u001b[0m\u001b[0m\n\u001b[1;32m   1162\u001b[0m             \u001b[0;32mwhile\u001b[0m \u001b[0mself\u001b[0m\u001b[0;34m.\u001b[0m\u001b[0m_pin_memory_thread\u001b[0m\u001b[0;34m.\u001b[0m\u001b[0mis_alive\u001b[0m\u001b[0;34m(\u001b[0m\u001b[0;34m)\u001b[0m\u001b[0;34m:\u001b[0m\u001b[0;34m\u001b[0m\u001b[0;34m\u001b[0m\u001b[0m\n\u001b[0;32m-> 1163\u001b[0;31m                 \u001b[0msuccess\u001b[0m\u001b[0;34m,\u001b[0m \u001b[0mdata\u001b[0m \u001b[0;34m=\u001b[0m \u001b[0mself\u001b[0m\u001b[0;34m.\u001b[0m\u001b[0m_try_get_data\u001b[0m\u001b[0;34m(\u001b[0m\u001b[0;34m)\u001b[0m\u001b[0;34m\u001b[0m\u001b[0;34m\u001b[0m\u001b[0m\n\u001b[0m\u001b[1;32m   1164\u001b[0m                 \u001b[0;32mif\u001b[0m \u001b[0msuccess\u001b[0m\u001b[0;34m:\u001b[0m\u001b[0;34m\u001b[0m\u001b[0;34m\u001b[0m\u001b[0m\n\u001b[1;32m   1165\u001b[0m                     \u001b[0;32mreturn\u001b[0m \u001b[0mdata\u001b[0m\u001b[0;34m\u001b[0m\u001b[0;34m\u001b[0m\u001b[0m\n",
            "\u001b[0;32m/usr/local/lib/python3.7/dist-packages/torch/utils/data/dataloader.py\u001b[0m in \u001b[0;36m_try_get_data\u001b[0;34m(self, timeout)\u001b[0m\n\u001b[1;32m   1009\u001b[0m         \u001b[0;31m#   (bool: whether successfully get data, any: data if successful else None)\u001b[0m\u001b[0;34m\u001b[0m\u001b[0;34m\u001b[0m\u001b[0;34m\u001b[0m\u001b[0m\n\u001b[1;32m   1010\u001b[0m         \u001b[0;32mtry\u001b[0m\u001b[0;34m:\u001b[0m\u001b[0;34m\u001b[0m\u001b[0;34m\u001b[0m\u001b[0m\n\u001b[0;32m-> 1011\u001b[0;31m             \u001b[0mdata\u001b[0m \u001b[0;34m=\u001b[0m \u001b[0mself\u001b[0m\u001b[0;34m.\u001b[0m\u001b[0m_data_queue\u001b[0m\u001b[0;34m.\u001b[0m\u001b[0mget\u001b[0m\u001b[0;34m(\u001b[0m\u001b[0mtimeout\u001b[0m\u001b[0;34m=\u001b[0m\u001b[0mtimeout\u001b[0m\u001b[0;34m)\u001b[0m\u001b[0;34m\u001b[0m\u001b[0;34m\u001b[0m\u001b[0m\n\u001b[0m\u001b[1;32m   1012\u001b[0m             \u001b[0;32mreturn\u001b[0m \u001b[0;34m(\u001b[0m\u001b[0;32mTrue\u001b[0m\u001b[0;34m,\u001b[0m \u001b[0mdata\u001b[0m\u001b[0;34m)\u001b[0m\u001b[0;34m\u001b[0m\u001b[0;34m\u001b[0m\u001b[0m\n\u001b[1;32m   1013\u001b[0m         \u001b[0;32mexcept\u001b[0m \u001b[0mException\u001b[0m \u001b[0;32mas\u001b[0m \u001b[0me\u001b[0m\u001b[0;34m:\u001b[0m\u001b[0;34m\u001b[0m\u001b[0;34m\u001b[0m\u001b[0m\n",
            "\u001b[0;32m/usr/lib/python3.7/queue.py\u001b[0m in \u001b[0;36mget\u001b[0;34m(self, block, timeout)\u001b[0m\n\u001b[1;32m    177\u001b[0m                     \u001b[0;32mif\u001b[0m \u001b[0mremaining\u001b[0m \u001b[0;34m<=\u001b[0m \u001b[0;36m0.0\u001b[0m\u001b[0;34m:\u001b[0m\u001b[0;34m\u001b[0m\u001b[0;34m\u001b[0m\u001b[0m\n\u001b[1;32m    178\u001b[0m                         \u001b[0;32mraise\u001b[0m \u001b[0mEmpty\u001b[0m\u001b[0;34m\u001b[0m\u001b[0;34m\u001b[0m\u001b[0m\n\u001b[0;32m--> 179\u001b[0;31m                     \u001b[0mself\u001b[0m\u001b[0;34m.\u001b[0m\u001b[0mnot_empty\u001b[0m\u001b[0;34m.\u001b[0m\u001b[0mwait\u001b[0m\u001b[0;34m(\u001b[0m\u001b[0mremaining\u001b[0m\u001b[0;34m)\u001b[0m\u001b[0;34m\u001b[0m\u001b[0;34m\u001b[0m\u001b[0m\n\u001b[0m\u001b[1;32m    180\u001b[0m             \u001b[0mitem\u001b[0m \u001b[0;34m=\u001b[0m \u001b[0mself\u001b[0m\u001b[0;34m.\u001b[0m\u001b[0m_get\u001b[0m\u001b[0;34m(\u001b[0m\u001b[0;34m)\u001b[0m\u001b[0;34m\u001b[0m\u001b[0;34m\u001b[0m\u001b[0m\n\u001b[1;32m    181\u001b[0m             \u001b[0mself\u001b[0m\u001b[0;34m.\u001b[0m\u001b[0mnot_full\u001b[0m\u001b[0;34m.\u001b[0m\u001b[0mnotify\u001b[0m\u001b[0;34m(\u001b[0m\u001b[0;34m)\u001b[0m\u001b[0;34m\u001b[0m\u001b[0;34m\u001b[0m\u001b[0m\n",
            "\u001b[0;32m/usr/lib/python3.7/threading.py\u001b[0m in \u001b[0;36mwait\u001b[0;34m(self, timeout)\u001b[0m\n\u001b[1;32m    298\u001b[0m             \u001b[0;32melse\u001b[0m\u001b[0;34m:\u001b[0m\u001b[0;34m\u001b[0m\u001b[0;34m\u001b[0m\u001b[0m\n\u001b[1;32m    299\u001b[0m                 \u001b[0;32mif\u001b[0m \u001b[0mtimeout\u001b[0m \u001b[0;34m>\u001b[0m \u001b[0;36m0\u001b[0m\u001b[0;34m:\u001b[0m\u001b[0;34m\u001b[0m\u001b[0;34m\u001b[0m\u001b[0m\n\u001b[0;32m--> 300\u001b[0;31m                     \u001b[0mgotit\u001b[0m \u001b[0;34m=\u001b[0m \u001b[0mwaiter\u001b[0m\u001b[0;34m.\u001b[0m\u001b[0macquire\u001b[0m\u001b[0;34m(\u001b[0m\u001b[0;32mTrue\u001b[0m\u001b[0;34m,\u001b[0m \u001b[0mtimeout\u001b[0m\u001b[0;34m)\u001b[0m\u001b[0;34m\u001b[0m\u001b[0;34m\u001b[0m\u001b[0m\n\u001b[0m\u001b[1;32m    301\u001b[0m                 \u001b[0;32melse\u001b[0m\u001b[0;34m:\u001b[0m\u001b[0;34m\u001b[0m\u001b[0;34m\u001b[0m\u001b[0m\n\u001b[1;32m    302\u001b[0m                     \u001b[0mgotit\u001b[0m \u001b[0;34m=\u001b[0m \u001b[0mwaiter\u001b[0m\u001b[0;34m.\u001b[0m\u001b[0macquire\u001b[0m\u001b[0;34m(\u001b[0m\u001b[0;32mFalse\u001b[0m\u001b[0;34m)\u001b[0m\u001b[0;34m\u001b[0m\u001b[0;34m\u001b[0m\u001b[0m\n",
            "\u001b[0;31mKeyboardInterrupt\u001b[0m: "
          ]
        }
      ]
    },
    {
      "cell_type": "code",
      "source": [
        "#Evaluate test score\n",
        "test_acc, test_loss = eval_acc_loss(conv_lstm_model, test_dataloader, device, loss_metric, is_train = False)\n",
        "test_acc"
      ],
      "metadata": {
        "id": "6sC28k6m78O9",
        "colab": {
          "base_uri": "https://localhost:8080/"
        },
        "outputId": "bf985922-8afd-4b7f-e5af-d597b5f2c7d4"
      },
      "execution_count": 31,
      "outputs": [
        {
          "output_type": "stream",
          "name": "stdout",
          "text": [
            "Test accuracy: 69.318182 %\n",
            "Test loss: 1.216619\n"
          ]
        },
        {
          "output_type": "execute_result",
          "data": {
            "text/plain": [
              "69.31818181818181"
            ]
          },
          "metadata": {},
          "execution_count": 31
        }
      ]
    },
    {
      "cell_type": "code",
      "source": [
        "### Load and Plot Curves\n",
        "\n",
        "LOAD_TRAIN_PATH = \"%s/training_data/%s_%s.json\" % (MODEL_PATH_BASE, MODEL_NAME, str(34))\n",
        "val_accs, val_losses, train_losses, train_accs, _ =  load_train_data(LOAD_TRAIN_PATH)\n",
        "\n",
        "plot_loss_charts(train_losses, val_losses)\n",
        "plot_acc_charts(train_accs, val_accs)\n"
      ],
      "metadata": {
        "colab": {
          "base_uri": "https://localhost:8080/",
          "height": 541
        },
        "id": "VlbhmyzjiPXj",
        "outputId": "c2c2d70c-22f8-4045-fc24-81bd1741a477"
      },
      "execution_count": 22,
      "outputs": [
        {
          "output_type": "display_data",
          "data": {
            "text/plain": [
              "<Figure size 432x288 with 1 Axes>"
            ],
            "image/png": "[encoded data removed]"
          },
          "metadata": {
            "needs_background": "light"
          }
        },
        {
          "output_type": "display_data",
          "data": {
            "text/plain": [
              "<Figure size 432x288 with 1 Axes>"
            ],
            "image/png": "[encoded data removed]"
          },
          "metadata": {
            "needs_background": "light"
          }
        }
      ]
    },
    {
      "cell_type": "code",
      "source": [
        "test_acc, test_loss = eval_acc_loss(conv_lstm_model, test_dataloader, device, loss_metric, is_train = False)\n",
        "test_acc"
      ],
      "metadata": {
        "colab": {
          "base_uri": "https://localhost:8080/"
        },
        "id": "nE6wS9UGmcib",
        "outputId": "4e358379-cf37-478a-b37f-ec19cdde2d71"
      },
      "execution_count": 49,
      "outputs": [
        {
          "output_type": "stream",
          "name": "stdout",
          "text": [
            "Validation accuracy: 68.181818 %\n",
            "Validation loss: 1.273292\n"
          ]
        },
        {
          "output_type": "execute_result",
          "data": {
            "text/plain": [
              "68.18181818181819"
            ]
          },
          "metadata": {},
          "execution_count": 49
        }
      ]
    },
    {
      "cell_type": "code",
      "source": [
        ""
      ],
      "metadata": {
        "id": "wmlcLVSIovnB"
      },
      "execution_count": null,
      "outputs": []
    }
  ]
}